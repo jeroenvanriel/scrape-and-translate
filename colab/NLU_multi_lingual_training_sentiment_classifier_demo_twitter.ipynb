{
  "nbformat": 4,
  "nbformat_minor": 0,
  "metadata": {
    "colab": {
      "name": "NLU_multi_lingual_training_sentiment_classifier_demo_twitter.ipynb",
      "provenance": [],
      "collapsed_sections": [
        "zkufh760uvF3"
      ]
    },
    "kernelspec": {
      "display_name": "Python 3",
      "name": "python3"
    }
  },
  "cells": [
    {
      "cell_type": "markdown",
      "metadata": {
        "id": "zkufh760uvF3"
      },
      "source": [
        "![JohnSnowLabs](https://nlp.johnsnowlabs.com/assets/images/logo.png)\n",
        "\n",
        "[![Open In Colab](https://colab.research.google.com/assets/colab-badge.svg)](https://colab.research.google.com/github/JohnSnowLabs/nlu/blob/master/examples//colab/Training/multi_lingual/binary_text_classification/NLU_multi_lingual_training_sentiment_classifier_demo_twitter.ipynb)\n",
        "\n",
        "# Training a Sentiment Analysis Classifier with NLU \n",
        "## 2 Class Twitter  Sentiment Classifier  Training\n",
        "With the [SentimentDL model](https://nlp.johnsnowlabs.com/docs/en/annotators#sentimentdl-multi-class-sentiment-analysis-annotator) from Spark NLP you can achieve State Of the Art results on any multi class text classification problem \n",
        "\n",
        "This notebook showcases the following features : \n",
        "\n",
        "- How to train the deep learning classifier\n",
        "- How to store a pipeline to disk\n",
        "- How to load the pipeline from disk (Enables NLU offline mode)\n",
        "\n",
        "\n",
        "*   List item\n",
        "*   List item\n",
        "\n",
        "\n",
        "You can achieve these results or even better on this dataset with training  data  : \n",
        "\n",
        "<br> \n",
        "\n",
        "![image.png](data:image/png;base64,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)\n",
        "\n",
        "You can achieve these results or even better on this dataset with test  data  : \n",
        "\n",
        "<br> \n",
        "\n",
        "![image.png](data:image/png;base64,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)"
      ]
    },
    {
      "cell_type": "markdown",
      "metadata": {
        "id": "dur2drhW5Rvi"
      },
      "source": [
        "# 1. Install Java 8 and NLU"
      ]
    },
    {
      "cell_type": "code",
      "metadata": {
        "colab": {
          "base_uri": "https://localhost:8080/"
        },
        "id": "hFGnBCHavltY",
        "outputId": "5be88615-b0b4-4a68-a6e4-bb30815cec9f"
      },
      "source": [
        "!wget https://setup.johnsnowlabs.com/nlu/colab.sh -O - | bash\n",
        "  \n",
        "\n",
        "import nlu"
      ],
      "execution_count": 1,
      "outputs": [
        {
          "output_type": "stream",
          "name": "stdout",
          "text": [
            "--2021-10-22 21:39:12--  https://setup.johnsnowlabs.com/nlu/colab.sh\n",
            "Resolving setup.johnsnowlabs.com (setup.johnsnowlabs.com)... 51.158.130.125\n",
            "Connecting to setup.johnsnowlabs.com (setup.johnsnowlabs.com)|51.158.130.125|:443... connected.\n",
            "HTTP request sent, awaiting response... 302 Moved Temporarily\n",
            "Location: https://raw.githubusercontent.com/JohnSnowLabs/nlu/master/scripts/colab_setup.sh [following]\n",
            "--2021-10-22 21:39:12--  https://raw.githubusercontent.com/JohnSnowLabs/nlu/master/scripts/colab_setup.sh\n",
            "Resolving raw.githubusercontent.com (raw.githubusercontent.com)... 185.199.108.133, 185.199.109.133, 185.199.110.133, ...\n",
            "Connecting to raw.githubusercontent.com (raw.githubusercontent.com)|185.199.108.133|:443... connected.\n",
            "HTTP request sent, awaiting response... 200 OK\n",
            "Length: 1662 (1.6K) [text/plain]\n",
            "Saving to: ‘STDOUT’\n",
            "\n",
            "-                   100%[===================>]   1.62K  --.-KB/s    in 0s      \n",
            "\n",
            "2021-10-22 21:39:12 (26.9 MB/s) - written to stdout [1662/1662]\n",
            "\n",
            "Installing  NLU 3.2.0 with  PySpark 3.1.2 and Spark NLP 3.2.3 for Google Colab ...\n",
            "Get:1 http://ppa.launchpad.net/c2d4u.team/c2d4u4.0+/ubuntu bionic InRelease [15.9 kB]\n",
            "Hit:2 http://ppa.launchpad.net/cran/libgit2/ubuntu bionic InRelease\n",
            "Hit:3 http://ppa.launchpad.net/deadsnakes/ppa/ubuntu bionic InRelease\n",
            "Get:4 https://cloud.r-project.org/bin/linux/ubuntu bionic-cran40/ InRelease [3,626 B]\n",
            "Hit:5 http://ppa.launchpad.net/graphics-drivers/ppa/ubuntu bionic InRelease\n",
            "Hit:6 http://archive.ubuntu.com/ubuntu bionic InRelease\n",
            "Get:7 http://archive.ubuntu.com/ubuntu bionic-updates InRelease [88.7 kB]\n",
            "Get:8 http://archive.ubuntu.com/ubuntu bionic-backports InRelease [74.6 kB]\n",
            "Get:9 http://security.ubuntu.com/ubuntu bionic-security InRelease [88.7 kB]\n",
            "Ign:10 https://developer.download.nvidia.com/compute/cuda/repos/ubuntu1804/x86_64  InRelease\n",
            "Ign:11 https://developer.download.nvidia.com/compute/machine-learning/repos/ubuntu1804/x86_64  InRelease\n",
            "Get:12 https://developer.download.nvidia.com/compute/cuda/repos/ubuntu1804/x86_64  Release [696 B]\n",
            "Hit:13 https://developer.download.nvidia.com/compute/machine-learning/repos/ubuntu1804/x86_64  Release\n",
            "Get:14 https://developer.download.nvidia.com/compute/cuda/repos/ubuntu1804/x86_64  Release.gpg [836 B]\n",
            "Get:15 http://ppa.launchpad.net/c2d4u.team/c2d4u4.0+/ubuntu bionic/main Sources [1,809 kB]\n",
            "Get:16 http://ppa.launchpad.net/c2d4u.team/c2d4u4.0+/ubuntu bionic/main amd64 Packages [926 kB]\n",
            "Get:17 https://cloud.r-project.org/bin/linux/ubuntu bionic-cran40/ Packages [69.5 kB]\n",
            "Get:18 http://archive.ubuntu.com/ubuntu bionic-updates/restricted amd64 Packages [665 kB]\n",
            "Get:19 http://archive.ubuntu.com/ubuntu bionic-updates/universe amd64 Packages [2,213 kB]\n",
            "Get:20 http://archive.ubuntu.com/ubuntu bionic-updates/main amd64 Packages [2,835 kB]\n",
            "Get:22 https://developer.download.nvidia.com/compute/cuda/repos/ubuntu1804/x86_64  Packages [753 kB]\n",
            "Get:23 http://security.ubuntu.com/ubuntu bionic-security/restricted amd64 Packages [630 kB]\n",
            "Get:24 http://security.ubuntu.com/ubuntu bionic-security/universe amd64 Packages [1,434 kB]\n",
            "Get:25 http://security.ubuntu.com/ubuntu bionic-security/main amd64 Packages [2,396 kB]\n",
            "Fetched 14.0 MB in 4s (3,647 kB/s)\n",
            "Reading package lists... Done\n",
            "tar: spark-3.1.1-bin-hadoop2.7.tgz: Cannot open: No such file or directory\n",
            "tar: Error is not recoverable: exiting now\n",
            "\u001b[K     |████████████████████████████████| 212.4 MB 59 kB/s \n",
            "\u001b[K     |████████████████████████████████| 118 kB 20.6 MB/s \n",
            "\u001b[K     |████████████████████████████████| 438 kB 71.5 MB/s \n",
            "\u001b[K     |████████████████████████████████| 198 kB 67.5 MB/s \n",
            "\u001b[?25h  Building wheel for pyspark (setup.py) ... \u001b[?25l\u001b[?25hdone\n"
          ]
        }
      ]
    },
    {
      "cell_type": "markdown",
      "metadata": {
        "id": "f4KkTfnR5Ugg"
      },
      "source": [
        "# 2. Download twitter Sentiment dataset \n",
        "https://www.kaggle.com/cosmos98/twitter-and-reddit-sentimental-analysis-dataset\n",
        "#Context\n",
        "\n",
        "This is was a Dataset Created as a part of the university Project On Sentimental Analysis On Multi-Source Social Media Platforms using PySpark."
      ]
    },
    {
      "cell_type": "code",
      "metadata": {
        "colab": {
          "base_uri": "https://localhost:8080/"
        },
        "id": "OrVb5ZMvvrQD",
        "outputId": "7e2600e2-5f00-4106-f50a-3c4b78c31dc4"
      },
      "source": [
        "! wget http://ckl-it.de/wp-content/uploads/2021/02/twitter_data_multi_lang.csv\n"
      ],
      "execution_count": 2,
      "outputs": [
        {
          "output_type": "stream",
          "name": "stdout",
          "text": [
            "--2021-10-22 21:40:54--  http://ckl-it.de/wp-content/uploads/2021/02/twitter_data_multi_lang.csv\n",
            "Resolving ckl-it.de (ckl-it.de)... 217.160.0.108, 2001:8d8:100f:f000::209\n",
            "Connecting to ckl-it.de (ckl-it.de)|217.160.0.108|:80... connected.\n",
            "HTTP request sent, awaiting response... 200 OK\n",
            "Length: 125908 (123K) [text/csv]\n",
            "Saving to: ‘twitter_data_multi_lang.csv’\n",
            "\n",
            "\r          twitter_d   0%[                    ]       0  --.-KB/s               \rtwitter_data_multi_ 100%[===================>] 122.96K  --.-KB/s    in 0.06s   \n",
            "\n",
            "2021-10-22 21:40:54 (1.93 MB/s) - ‘twitter_data_multi_lang.csv’ saved [125908/125908]\n",
            "\n"
          ]
        }
      ]
    },
    {
      "cell_type": "code",
      "metadata": {
        "colab": {
          "base_uri": "https://localhost:8080/",
          "height": 419
        },
        "id": "y4xSRWIhwT28",
        "outputId": "11b2f376-edf4-4fdf-b2e5-4f4d679d7f33"
      },
      "source": [
        "import pandas as pd\n",
        "train_path = '/content/twitter_data_multi_lang.csv'\n",
        "\n",
        "train_df = pd.read_csv(train_path)\n",
        "train_df.test_sentences = train_df.test_sentences.astype(str)\n",
        "# the text data to use for classification should be in a column named 'text'\n",
        "# the label column must have name 'y' name be of type str\n",
        "train_df= train_df[[\"text\",\"y\"]]\n",
        "from sklearn.model_selection import train_test_split\n",
        "train_df, test_df = train_test_split(train_df, test_size=0.2)\n",
        "train_df"
      ],
      "execution_count": 3,
      "outputs": [
        {
          "output_type": "execute_result",
          "data": {
            "text/html": [
              "<div>\n",
              "<style scoped>\n",
              "    .dataframe tbody tr th:only-of-type {\n",
              "        vertical-align: middle;\n",
              "    }\n",
              "\n",
              "    .dataframe tbody tr th {\n",
              "        vertical-align: top;\n",
              "    }\n",
              "\n",
              "    .dataframe thead th {\n",
              "        text-align: right;\n",
              "    }\n",
              "</style>\n",
              "<table border=\"1\" class=\"dataframe\">\n",
              "  <thead>\n",
              "    <tr style=\"text-align: right;\">\n",
              "      <th></th>\n",
              "      <th>text</th>\n",
              "      <th>y</th>\n",
              "    </tr>\n",
              "  </thead>\n",
              "  <tbody>\n",
              "    <tr>\n",
              "      <th>461</th>\n",
              "      <td>after modi removed your name from voter list a...</td>\n",
              "      <td>negative</td>\n",
              "    </tr>\n",
              "    <tr>\n",
              "      <th>283</th>\n",
              "      <td>let state govt handle law and order why drag m...</td>\n",
              "      <td>negative</td>\n",
              "    </tr>\n",
              "    <tr>\n",
              "      <th>540</th>\n",
              "      <td>have all these qualities modi and more strong ...</td>\n",
              "      <td>positive</td>\n",
              "    </tr>\n",
              "    <tr>\n",
              "      <th>430</th>\n",
              "      <td>agree such idiots the biggest curse for modi a...</td>\n",
              "      <td>negative</td>\n",
              "    </tr>\n",
              "    <tr>\n",
              "      <th>533</th>\n",
              "      <td>modi will endup mad manlike hitler mussolini p...</td>\n",
              "      <td>negative</td>\n",
              "    </tr>\n",
              "    <tr>\n",
              "      <th>...</th>\n",
              "      <td>...</td>\n",
              "      <td>...</td>\n",
              "    </tr>\n",
              "    <tr>\n",
              "      <th>181</th>\n",
              "      <td>funny after dowing two planes endian air chief...</td>\n",
              "      <td>positive</td>\n",
              "    </tr>\n",
              "    <tr>\n",
              "      <th>432</th>\n",
              "      <td>the last years the economist led upaii were ec...</td>\n",
              "      <td>negative</td>\n",
              "    </tr>\n",
              "    <tr>\n",
              "      <th>502</th>\n",
              "      <td>anchor doing canvas against modi not fit for j...</td>\n",
              "      <td>negative</td>\n",
              "    </tr>\n",
              "    <tr>\n",
              "      <th>495</th>\n",
              "      <td>one the most hard working minister modi govt\\r...</td>\n",
              "      <td>negative</td>\n",
              "    </tr>\n",
              "    <tr>\n",
              "      <th>347</th>\n",
              "      <td>awareness the key make any scheme successfulmo...</td>\n",
              "      <td>negative</td>\n",
              "    </tr>\n",
              "  </tbody>\n",
              "</table>\n",
              "<p>480 rows × 2 columns</p>\n",
              "</div>"
            ],
            "text/plain": [
              "                                                  text         y\n",
              "461  after modi removed your name from voter list a...  negative\n",
              "283  let state govt handle law and order why drag m...  negative\n",
              "540  have all these qualities modi and more strong ...  positive\n",
              "430  agree such idiots the biggest curse for modi a...  negative\n",
              "533  modi will endup mad manlike hitler mussolini p...  negative\n",
              "..                                                 ...       ...\n",
              "181  funny after dowing two planes endian air chief...  positive\n",
              "432  the last years the economist led upaii were ec...  negative\n",
              "502  anchor doing canvas against modi not fit for j...  negative\n",
              "495  one the most hard working minister modi govt\\r...  negative\n",
              "347  awareness the key make any scheme successfulmo...  negative\n",
              "\n",
              "[480 rows x 2 columns]"
            ]
          },
          "metadata": {},
          "execution_count": 3
        }
      ]
    },
    {
      "cell_type": "markdown",
      "metadata": {
        "id": "0296Om2C5anY"
      },
      "source": [
        "# 3. Train Deep Learning Classifier using nlu.load('train.sentiment')\n",
        "\n",
        "You dataset label column should be named 'y' and the feature column with text data should be named 'text'"
      ]
    },
    {
      "cell_type": "code",
      "metadata": {
        "colab": {
          "base_uri": "https://localhost:8080/",
          "height": 1000
        },
        "id": "IKK_Ii_gjJfF",
        "outputId": "fbb4df54-12a3-4f85-ccde-8f2f7744a8be"
      },
      "source": [
        "trainable_pipe = nlu.load('xx.embed_sentence.labse train.sentiment')\n",
        "# We need to train longer and user smaller LR for NON-USE based sentence embeddings usually\n",
        "# We could tune the hyperparameters further with hyperparameter tuning methods like gridsearch\n",
        "# Also longer training gives more accuracy\n",
        "trainable_pipe['sentiment_dl'].setMaxEpochs(60)  \n",
        "trainable_pipe['sentiment_dl'].setLr(0.005) \n",
        "fitted_pipe = trainable_pipe.fit(train_df)\n",
        "# predict with the trainable pipeline on dataset and get predictions\n",
        "preds = fitted_pipe.predict(train_df,output_level='document')\n",
        "\n",
        "#sentence detector that is part of the pipe generates sone NaNs. lets drop them first\n",
        "preds.dropna(inplace=True)\n",
        "from sklearn.metrics import classification_report\n",
        "print(classification_report(preds['y'], preds['trained_sentiment']))\n",
        "\n",
        "preds"
      ],
      "execution_count": 4,
      "outputs": [
        {
          "output_type": "stream",
          "name": "stdout",
          "text": [
            "labse download started this may take some time.\n",
            "Approximate size to download 1.7 GB\n",
            "[OK!]\n",
            "sentence_detector_dl download started this may take some time.\n",
            "Approximate size to download 354.6 KB\n",
            "[OK!]\n",
            "              precision    recall  f1-score   support\n",
            "\n",
            "    negative       0.96      0.97      0.96       235\n",
            "    positive       0.97      0.96      0.97       245\n",
            "\n",
            "    accuracy                           0.96       480\n",
            "   macro avg       0.96      0.96      0.96       480\n",
            "weighted avg       0.96      0.96      0.96       480\n",
            "\n"
          ]
        },
        {
          "output_type": "execute_result",
          "data": {
            "text/html": [
              "<div>\n",
              "<style scoped>\n",
              "    .dataframe tbody tr th:only-of-type {\n",
              "        vertical-align: middle;\n",
              "    }\n",
              "\n",
              "    .dataframe tbody tr th {\n",
              "        vertical-align: top;\n",
              "    }\n",
              "\n",
              "    .dataframe thead th {\n",
              "        text-align: right;\n",
              "    }\n",
              "</style>\n",
              "<table border=\"1\" class=\"dataframe\">\n",
              "  <thead>\n",
              "    <tr style=\"text-align: right;\">\n",
              "      <th></th>\n",
              "      <th>trained_sentiment_confidence</th>\n",
              "      <th>document</th>\n",
              "      <th>y</th>\n",
              "      <th>trained_sentiment</th>\n",
              "      <th>sentence_embedding_labse</th>\n",
              "      <th>text</th>\n",
              "    </tr>\n",
              "  </thead>\n",
              "  <tbody>\n",
              "    <tr>\n",
              "      <th>0</th>\n",
              "      <td>0.999988</td>\n",
              "      <td>after modi removed your name from voter list a...</td>\n",
              "      <td>negative</td>\n",
              "      <td>negative</td>\n",
              "      <td>[-0.03525136, 0.032949567, 0.049605887, 0.0097...</td>\n",
              "      <td>after modi removed your name from voter list a...</td>\n",
              "    </tr>\n",
              "    <tr>\n",
              "      <th>1</th>\n",
              "      <td>0.997970</td>\n",
              "      <td>let state govt handle law and order why drag m...</td>\n",
              "      <td>negative</td>\n",
              "      <td>negative</td>\n",
              "      <td>[-0.0148479575, -0.006520447, 0.037620917, -0....</td>\n",
              "      <td>let state govt handle law and order why drag m...</td>\n",
              "    </tr>\n",
              "    <tr>\n",
              "      <th>2</th>\n",
              "      <td>0.999999</td>\n",
              "      <td>have all these qualities modi and more strong ...</td>\n",
              "      <td>positive</td>\n",
              "      <td>positive</td>\n",
              "      <td>[0.0064747497, 0.031111103, -0.019350154, -0.0...</td>\n",
              "      <td>have all these qualities modi and more strong ...</td>\n",
              "    </tr>\n",
              "    <tr>\n",
              "      <th>3</th>\n",
              "      <td>0.993838</td>\n",
              "      <td>agree such idiots the biggest curse for modi a...</td>\n",
              "      <td>negative</td>\n",
              "      <td>negative</td>\n",
              "      <td>[0.037638582, 0.0022320487, 0.019440027, -0.01...</td>\n",
              "      <td>agree such idiots the biggest curse for modi a...</td>\n",
              "    </tr>\n",
              "    <tr>\n",
              "      <th>4</th>\n",
              "      <td>0.999387</td>\n",
              "      <td>modi will endup mad manlike hitler mussolini p...</td>\n",
              "      <td>negative</td>\n",
              "      <td>negative</td>\n",
              "      <td>[-0.023819957, -0.0053019486, 0.070580944, -0....</td>\n",
              "      <td>modi will endup mad manlike hitler mussolini p...</td>\n",
              "    </tr>\n",
              "    <tr>\n",
              "      <th>...</th>\n",
              "      <td>...</td>\n",
              "      <td>...</td>\n",
              "      <td>...</td>\n",
              "      <td>...</td>\n",
              "      <td>...</td>\n",
              "      <td>...</td>\n",
              "    </tr>\n",
              "    <tr>\n",
              "      <th>475</th>\n",
              "      <td>0.994881</td>\n",
              "      <td>funny after dowing two planes endian air chief...</td>\n",
              "      <td>positive</td>\n",
              "      <td>positive</td>\n",
              "      <td>[-0.076085344, 0.07721551, -0.007120685, 0.013...</td>\n",
              "      <td>funny after dowing two planes endian air chief...</td>\n",
              "    </tr>\n",
              "    <tr>\n",
              "      <th>476</th>\n",
              "      <td>0.999823</td>\n",
              "      <td>the last years the economist led upaii were ec...</td>\n",
              "      <td>negative</td>\n",
              "      <td>negative</td>\n",
              "      <td>[-0.054738495, 0.0001529619, -0.013970518, -0....</td>\n",
              "      <td>the last years the economist led upaii were ec...</td>\n",
              "    </tr>\n",
              "    <tr>\n",
              "      <th>477</th>\n",
              "      <td>0.999845</td>\n",
              "      <td>anchor doing canvas against modi not fit for j...</td>\n",
              "      <td>negative</td>\n",
              "      <td>negative</td>\n",
              "      <td>[-0.020987356, 0.04611202, -0.0483219, -0.0614...</td>\n",
              "      <td>anchor doing canvas against modi not fit for j...</td>\n",
              "    </tr>\n",
              "    <tr>\n",
              "      <th>478</th>\n",
              "      <td>0.997783</td>\n",
              "      <td>one the most hard working minister modi govt o...</td>\n",
              "      <td>negative</td>\n",
              "      <td>negative</td>\n",
              "      <td>[0.030751666, 0.023336992, 0.025088795, 0.0112...</td>\n",
              "      <td>one the most hard working minister modi govt\\r...</td>\n",
              "    </tr>\n",
              "    <tr>\n",
              "      <th>479</th>\n",
              "      <td>0.881289</td>\n",
              "      <td>awareness the key make any scheme successfulmo...</td>\n",
              "      <td>negative</td>\n",
              "      <td>negative</td>\n",
              "      <td>[-0.031346433, -0.012301999, 0.020079773, -0.0...</td>\n",
              "      <td>awareness the key make any scheme successfulmo...</td>\n",
              "    </tr>\n",
              "  </tbody>\n",
              "</table>\n",
              "<p>480 rows × 6 columns</p>\n",
              "</div>"
            ],
            "text/plain": [
              "     trained_sentiment_confidence  ...                                               text\n",
              "0                        0.999988  ...  after modi removed your name from voter list a...\n",
              "1                        0.997970  ...  let state govt handle law and order why drag m...\n",
              "2                        0.999999  ...  have all these qualities modi and more strong ...\n",
              "3                        0.993838  ...  agree such idiots the biggest curse for modi a...\n",
              "4                        0.999387  ...  modi will endup mad manlike hitler mussolini p...\n",
              "..                            ...  ...                                                ...\n",
              "475                      0.994881  ...  funny after dowing two planes endian air chief...\n",
              "476                      0.999823  ...  the last years the economist led upaii were ec...\n",
              "477                      0.999845  ...  anchor doing canvas against modi not fit for j...\n",
              "478                      0.997783  ...  one the most hard working minister modi govt\\r...\n",
              "479                      0.881289  ...  awareness the key make any scheme successfulmo...\n",
              "\n",
              "[480 rows x 6 columns]"
            ]
          },
          "metadata": {},
          "execution_count": 4
        }
      ]
    },
    {
      "cell_type": "code",
      "metadata": {
        "id": "hoVGuExwEny_",
        "outputId": "f723690d-2686-42ab-e6df-bec5098faa40",
        "colab": {
          "base_uri": "https://localhost:8080/",
          "height": 528
        }
      },
      "source": [
        "dutch_path = '/content/dutch.csv'\n",
        "english_path = '/content/english.csv'\n",
        "dutch_out_path = '/content/dutch_preds.csv'\n",
        "english_out_path = '/content/english_preds.csv'\n",
        "\n",
        "print(\"Parsing Dutch tweets...\")\n",
        "dutch_df = pd.read_csv(dutch_path)\n",
        "print(\"Parsing English tweets...\")\n",
        "english_df = pd.read_csv(english_path)\n",
        "\n",
        "print(\"Predicting Dutch tweets...\")\n",
        "dutch_preds = fitted_pipe.predict(dutch_df)\n",
        "print(\"Predicting English tweets...\")\n",
        "english_preds = fitted_pipe.predict(english_df)"
      ],
      "execution_count": 6,
      "outputs": [
        {
          "output_type": "stream",
          "name": "stdout",
          "text": [
            "Predicting English tweets...\n"
          ]
        },
        {
          "output_type": "error",
          "ename": "KeyboardInterrupt",
          "evalue": "ignored",
          "traceback": [
            "\u001b[0;31m---------------------------------------------------------------------------\u001b[0m",
            "\u001b[0;31mKeyboardInterrupt\u001b[0m                         Traceback (most recent call last)",
            "\u001b[0;32m/usr/local/lib/python3.7/dist-packages/pyspark/sql/pandas/conversion.py\u001b[0m in \u001b[0;36m_collect_as_arrow\u001b[0;34m(self)\u001b[0m\n\u001b[1;32m    242\u001b[0m         \u001b[0;32mtry\u001b[0m\u001b[0;34m:\u001b[0m\u001b[0;34m\u001b[0m\u001b[0;34m\u001b[0m\u001b[0m\n\u001b[0;32m--> 243\u001b[0;31m             \u001b[0mresults\u001b[0m \u001b[0;34m=\u001b[0m \u001b[0mlist\u001b[0m\u001b[0;34m(\u001b[0m\u001b[0m_load_from_socket\u001b[0m\u001b[0;34m(\u001b[0m\u001b[0;34m(\u001b[0m\u001b[0mport\u001b[0m\u001b[0;34m,\u001b[0m \u001b[0mauth_secret\u001b[0m\u001b[0;34m)\u001b[0m\u001b[0;34m,\u001b[0m \u001b[0mArrowCollectSerializer\u001b[0m\u001b[0;34m(\u001b[0m\u001b[0;34m)\u001b[0m\u001b[0;34m)\u001b[0m\u001b[0;34m)\u001b[0m\u001b[0;34m\u001b[0m\u001b[0;34m\u001b[0m\u001b[0m\n\u001b[0m\u001b[1;32m    244\u001b[0m         \u001b[0;32mfinally\u001b[0m\u001b[0;34m:\u001b[0m\u001b[0;34m\u001b[0m\u001b[0;34m\u001b[0m\u001b[0m\n",
            "\u001b[0;32m/usr/local/lib/python3.7/dist-packages/pyspark/sql/pandas/serializers.py\u001b[0m in \u001b[0;36mload_stream\u001b[0;34m(self, stream)\u001b[0m\n\u001b[1;32m     52\u001b[0m         \u001b[0;31m# load the batches\u001b[0m\u001b[0;34m\u001b[0m\u001b[0;34m\u001b[0m\u001b[0;34m\u001b[0m\u001b[0m\n\u001b[0;32m---> 53\u001b[0;31m         \u001b[0;32mfor\u001b[0m \u001b[0mbatch\u001b[0m \u001b[0;32min\u001b[0m \u001b[0mself\u001b[0m\u001b[0;34m.\u001b[0m\u001b[0mserializer\u001b[0m\u001b[0;34m.\u001b[0m\u001b[0mload_stream\u001b[0m\u001b[0;34m(\u001b[0m\u001b[0mstream\u001b[0m\u001b[0;34m)\u001b[0m\u001b[0;34m:\u001b[0m\u001b[0;34m\u001b[0m\u001b[0;34m\u001b[0m\u001b[0m\n\u001b[0m\u001b[1;32m     54\u001b[0m             \u001b[0;32myield\u001b[0m \u001b[0mbatch\u001b[0m\u001b[0;34m\u001b[0m\u001b[0;34m\u001b[0m\u001b[0m\n",
            "\u001b[0;32m/usr/local/lib/python3.7/dist-packages/pyspark/sql/pandas/serializers.py\u001b[0m in \u001b[0;36mload_stream\u001b[0;34m(self, stream)\u001b[0m\n\u001b[1;32m     90\u001b[0m         \u001b[0;32mimport\u001b[0m \u001b[0mpyarrow\u001b[0m \u001b[0;32mas\u001b[0m \u001b[0mpa\u001b[0m\u001b[0;34m\u001b[0m\u001b[0;34m\u001b[0m\u001b[0m\n\u001b[0;32m---> 91\u001b[0;31m         \u001b[0mreader\u001b[0m \u001b[0;34m=\u001b[0m \u001b[0mpa\u001b[0m\u001b[0;34m.\u001b[0m\u001b[0mipc\u001b[0m\u001b[0;34m.\u001b[0m\u001b[0mopen_stream\u001b[0m\u001b[0;34m(\u001b[0m\u001b[0mstream\u001b[0m\u001b[0;34m)\u001b[0m\u001b[0;34m\u001b[0m\u001b[0;34m\u001b[0m\u001b[0m\n\u001b[0m\u001b[1;32m     92\u001b[0m         \u001b[0;32mfor\u001b[0m \u001b[0mbatch\u001b[0m \u001b[0;32min\u001b[0m \u001b[0mreader\u001b[0m\u001b[0;34m:\u001b[0m\u001b[0;34m\u001b[0m\u001b[0;34m\u001b[0m\u001b[0m\n",
            "\u001b[0;32m/usr/local/lib/python3.7/dist-packages/pyarrow/ipc.py\u001b[0m in \u001b[0;36mopen_stream\u001b[0;34m(source)\u001b[0m\n\u001b[1;32m    153\u001b[0m     \"\"\"\n\u001b[0;32m--> 154\u001b[0;31m     \u001b[0;32mreturn\u001b[0m \u001b[0mRecordBatchStreamReader\u001b[0m\u001b[0;34m(\u001b[0m\u001b[0msource\u001b[0m\u001b[0;34m)\u001b[0m\u001b[0;34m\u001b[0m\u001b[0;34m\u001b[0m\u001b[0m\n\u001b[0m\u001b[1;32m    155\u001b[0m \u001b[0;34m\u001b[0m\u001b[0m\n",
            "\u001b[0;32m/usr/local/lib/python3.7/dist-packages/pyarrow/ipc.py\u001b[0m in \u001b[0;36m__init__\u001b[0;34m(self, source)\u001b[0m\n\u001b[1;32m     44\u001b[0m     \u001b[0;32mdef\u001b[0m \u001b[0m__init__\u001b[0m\u001b[0;34m(\u001b[0m\u001b[0mself\u001b[0m\u001b[0;34m,\u001b[0m \u001b[0msource\u001b[0m\u001b[0;34m)\u001b[0m\u001b[0;34m:\u001b[0m\u001b[0;34m\u001b[0m\u001b[0;34m\u001b[0m\u001b[0m\n\u001b[0;32m---> 45\u001b[0;31m         \u001b[0mself\u001b[0m\u001b[0;34m.\u001b[0m\u001b[0m_open\u001b[0m\u001b[0;34m(\u001b[0m\u001b[0msource\u001b[0m\u001b[0;34m)\u001b[0m\u001b[0;34m\u001b[0m\u001b[0;34m\u001b[0m\u001b[0m\n\u001b[0m\u001b[1;32m     46\u001b[0m \u001b[0;34m\u001b[0m\u001b[0m\n",
            "\u001b[0;32m/usr/local/lib/python3.7/dist-packages/pyarrow/ipc.pxi\u001b[0m in \u001b[0;36mpyarrow.lib._RecordBatchStreamReader._open\u001b[0;34m()\u001b[0m\n",
            "\u001b[0;32m/usr/local/lib/python3.7/dist-packages/pyarrow/error.pxi\u001b[0m in \u001b[0;36mpyarrow.lib.pyarrow_internal_check_status\u001b[0;34m()\u001b[0m\n",
            "\u001b[0;32m/usr/lib/python3.7/socket.py\u001b[0m in \u001b[0;36mreadinto\u001b[0;34m(self, b)\u001b[0m\n\u001b[1;32m    588\u001b[0m             \u001b[0;32mtry\u001b[0m\u001b[0;34m:\u001b[0m\u001b[0;34m\u001b[0m\u001b[0;34m\u001b[0m\u001b[0m\n\u001b[0;32m--> 589\u001b[0;31m                 \u001b[0;32mreturn\u001b[0m \u001b[0mself\u001b[0m\u001b[0;34m.\u001b[0m\u001b[0m_sock\u001b[0m\u001b[0;34m.\u001b[0m\u001b[0mrecv_into\u001b[0m\u001b[0;34m(\u001b[0m\u001b[0mb\u001b[0m\u001b[0;34m)\u001b[0m\u001b[0;34m\u001b[0m\u001b[0;34m\u001b[0m\u001b[0m\n\u001b[0m\u001b[1;32m    590\u001b[0m             \u001b[0;32mexcept\u001b[0m \u001b[0mtimeout\u001b[0m\u001b[0;34m:\u001b[0m\u001b[0;34m\u001b[0m\u001b[0;34m\u001b[0m\u001b[0m\n",
            "\u001b[0;31mKeyboardInterrupt\u001b[0m: ",
            "\nDuring handling of the above exception, another exception occurred:\n",
            "\u001b[0;31mKeyboardInterrupt\u001b[0m                         Traceback (most recent call last)",
            "\u001b[0;32m/usr/local/lib/python3.7/dist-packages/nlu/pipe/pipeline.py\u001b[0m in \u001b[0;36munpack_and_apply_extractors\u001b[0;34m(self, sdf, keep_stranger_features, stranger_features, anno_2_ex_config)\u001b[0m\n\u001b[1;32m    291\u001b[0m                 return apply_extractors_and_merge(\n\u001b[0;32m--> 292\u001b[0;31m                     \u001b[0mPaConversionUtils\u001b[0m\u001b[0;34m.\u001b[0m\u001b[0mconvert_via_pyarrow\u001b[0m\u001b[0;34m(\u001b[0m\u001b[0msdf\u001b[0m\u001b[0;34m)\u001b[0m\u001b[0;34m.\u001b[0m\u001b[0mapplymap\u001b[0m\u001b[0;34m(\u001b[0m\u001b[0mextract_pyarrow_rows\u001b[0m\u001b[0;34m)\u001b[0m\u001b[0;34m,\u001b[0m\u001b[0;34m\u001b[0m\u001b[0;34m\u001b[0m\u001b[0m\n\u001b[0m\u001b[1;32m    293\u001b[0m                     anno_2_ex_config, keep_stranger_features, stranger_features)\n",
            "\u001b[0;32m/usr/local/lib/python3.7/dist-packages/nlu/pipe/utils/pyarrow_conversion/pa_conversion.py\u001b[0m in \u001b[0;36mconvert_via_pyarrow\u001b[0;34m(sdf)\u001b[0m\n\u001b[1;32m     26\u001b[0m         \u001b[0mtmp_column_names\u001b[0m \u001b[0;34m=\u001b[0m \u001b[0;34m[\u001b[0m\u001b[0;34m'col_{}'\u001b[0m\u001b[0;34m.\u001b[0m\u001b[0mformat\u001b[0m\u001b[0;34m(\u001b[0m\u001b[0mi\u001b[0m\u001b[0;34m)\u001b[0m \u001b[0;32mfor\u001b[0m \u001b[0mi\u001b[0m \u001b[0;32min\u001b[0m \u001b[0mrange\u001b[0m\u001b[0;34m(\u001b[0m\u001b[0mlen\u001b[0m\u001b[0;34m(\u001b[0m\u001b[0msdf\u001b[0m\u001b[0;34m.\u001b[0m\u001b[0mcolumns\u001b[0m\u001b[0;34m)\u001b[0m\u001b[0;34m)\u001b[0m\u001b[0;34m]\u001b[0m\u001b[0;34m\u001b[0m\u001b[0;34m\u001b[0m\u001b[0m\n\u001b[0;32m---> 27\u001b[0;31m         \u001b[0mbatches\u001b[0m \u001b[0;34m=\u001b[0m \u001b[0msdf\u001b[0m\u001b[0;34m.\u001b[0m\u001b[0mtoDF\u001b[0m\u001b[0;34m(\u001b[0m\u001b[0;34m*\u001b[0m\u001b[0mtmp_column_names\u001b[0m\u001b[0;34m)\u001b[0m\u001b[0;34m.\u001b[0m\u001b[0m_collect_as_arrow\u001b[0m\u001b[0;34m(\u001b[0m\u001b[0;34m)\u001b[0m\u001b[0;34m\u001b[0m\u001b[0;34m\u001b[0m\u001b[0m\n\u001b[0m\u001b[1;32m     28\u001b[0m         \u001b[0;32mif\u001b[0m \u001b[0mlen\u001b[0m\u001b[0;34m(\u001b[0m\u001b[0mbatches\u001b[0m\u001b[0;34m)\u001b[0m \u001b[0;34m>\u001b[0m \u001b[0;36m0\u001b[0m\u001b[0;34m:\u001b[0m\u001b[0;34m\u001b[0m\u001b[0;34m\u001b[0m\u001b[0m\n",
            "\u001b[0;32m/usr/local/lib/python3.7/dist-packages/pyspark/sql/pandas/conversion.py\u001b[0m in \u001b[0;36m_collect_as_arrow\u001b[0;34m(self)\u001b[0m\n\u001b[1;32m    245\u001b[0m             \u001b[0;31m# Join serving thread and raise any exceptions from collectAsArrowToPython\u001b[0m\u001b[0;34m\u001b[0m\u001b[0;34m\u001b[0m\u001b[0;34m\u001b[0m\u001b[0m\n\u001b[0;32m--> 246\u001b[0;31m             \u001b[0mjsocket_auth_server\u001b[0m\u001b[0;34m.\u001b[0m\u001b[0mgetResult\u001b[0m\u001b[0;34m(\u001b[0m\u001b[0;34m)\u001b[0m\u001b[0;34m\u001b[0m\u001b[0;34m\u001b[0m\u001b[0m\n\u001b[0m\u001b[1;32m    247\u001b[0m \u001b[0;34m\u001b[0m\u001b[0m\n",
            "\u001b[0;32m/usr/local/lib/python3.7/dist-packages/py4j/java_gateway.py\u001b[0m in \u001b[0;36m__call__\u001b[0;34m(self, *args)\u001b[0m\n\u001b[1;32m   1302\u001b[0m \u001b[0;34m\u001b[0m\u001b[0m\n\u001b[0;32m-> 1303\u001b[0;31m         \u001b[0manswer\u001b[0m \u001b[0;34m=\u001b[0m \u001b[0mself\u001b[0m\u001b[0;34m.\u001b[0m\u001b[0mgateway_client\u001b[0m\u001b[0;34m.\u001b[0m\u001b[0msend_command\u001b[0m\u001b[0;34m(\u001b[0m\u001b[0mcommand\u001b[0m\u001b[0;34m)\u001b[0m\u001b[0;34m\u001b[0m\u001b[0;34m\u001b[0m\u001b[0m\n\u001b[0m\u001b[1;32m   1304\u001b[0m         return_value = get_return_value(\n",
            "\u001b[0;32m/usr/local/lib/python3.7/dist-packages/py4j/java_gateway.py\u001b[0m in \u001b[0;36msend_command\u001b[0;34m(self, command, retry, binary)\u001b[0m\n\u001b[1;32m   1032\u001b[0m         \u001b[0;32mtry\u001b[0m\u001b[0;34m:\u001b[0m\u001b[0;34m\u001b[0m\u001b[0;34m\u001b[0m\u001b[0m\n\u001b[0;32m-> 1033\u001b[0;31m             \u001b[0mresponse\u001b[0m \u001b[0;34m=\u001b[0m \u001b[0mconnection\u001b[0m\u001b[0;34m.\u001b[0m\u001b[0msend_command\u001b[0m\u001b[0;34m(\u001b[0m\u001b[0mcommand\u001b[0m\u001b[0;34m)\u001b[0m\u001b[0;34m\u001b[0m\u001b[0;34m\u001b[0m\u001b[0m\n\u001b[0m\u001b[1;32m   1034\u001b[0m             \u001b[0;32mif\u001b[0m \u001b[0mbinary\u001b[0m\u001b[0;34m:\u001b[0m\u001b[0;34m\u001b[0m\u001b[0;34m\u001b[0m\u001b[0m\n",
            "\u001b[0;32m/usr/local/lib/python3.7/dist-packages/py4j/java_gateway.py\u001b[0m in \u001b[0;36msend_command\u001b[0;34m(self, command)\u001b[0m\n\u001b[1;32m   1199\u001b[0m         \u001b[0;32mtry\u001b[0m\u001b[0;34m:\u001b[0m\u001b[0;34m\u001b[0m\u001b[0;34m\u001b[0m\u001b[0m\n\u001b[0;32m-> 1200\u001b[0;31m             \u001b[0manswer\u001b[0m \u001b[0;34m=\u001b[0m \u001b[0msmart_decode\u001b[0m\u001b[0;34m(\u001b[0m\u001b[0mself\u001b[0m\u001b[0;34m.\u001b[0m\u001b[0mstream\u001b[0m\u001b[0;34m.\u001b[0m\u001b[0mreadline\u001b[0m\u001b[0;34m(\u001b[0m\u001b[0;34m)\u001b[0m\u001b[0;34m[\u001b[0m\u001b[0;34m:\u001b[0m\u001b[0;34m-\u001b[0m\u001b[0;36m1\u001b[0m\u001b[0;34m]\u001b[0m\u001b[0;34m)\u001b[0m\u001b[0;34m\u001b[0m\u001b[0;34m\u001b[0m\u001b[0m\n\u001b[0m\u001b[1;32m   1201\u001b[0m             \u001b[0mlogger\u001b[0m\u001b[0;34m.\u001b[0m\u001b[0mdebug\u001b[0m\u001b[0;34m(\u001b[0m\u001b[0;34m\"Answer received: {0}\"\u001b[0m\u001b[0;34m.\u001b[0m\u001b[0mformat\u001b[0m\u001b[0;34m(\u001b[0m\u001b[0manswer\u001b[0m\u001b[0;34m)\u001b[0m\u001b[0;34m)\u001b[0m\u001b[0;34m\u001b[0m\u001b[0;34m\u001b[0m\u001b[0m\n",
            "\u001b[0;32m/usr/lib/python3.7/socket.py\u001b[0m in \u001b[0;36mreadinto\u001b[0;34m(self, b)\u001b[0m\n\u001b[1;32m    588\u001b[0m             \u001b[0;32mtry\u001b[0m\u001b[0;34m:\u001b[0m\u001b[0;34m\u001b[0m\u001b[0;34m\u001b[0m\u001b[0m\n\u001b[0;32m--> 589\u001b[0;31m                 \u001b[0;32mreturn\u001b[0m \u001b[0mself\u001b[0m\u001b[0;34m.\u001b[0m\u001b[0m_sock\u001b[0m\u001b[0;34m.\u001b[0m\u001b[0mrecv_into\u001b[0m\u001b[0;34m(\u001b[0m\u001b[0mb\u001b[0m\u001b[0;34m)\u001b[0m\u001b[0;34m\u001b[0m\u001b[0;34m\u001b[0m\u001b[0m\n\u001b[0m\u001b[1;32m    590\u001b[0m             \u001b[0;32mexcept\u001b[0m \u001b[0mtimeout\u001b[0m\u001b[0;34m:\u001b[0m\u001b[0;34m\u001b[0m\u001b[0;34m\u001b[0m\u001b[0m\n",
            "\u001b[0;31mKeyboardInterrupt\u001b[0m: ",
            "\nDuring handling of the above exception, another exception occurred:\n",
            "\u001b[0;31mKeyboardInterrupt\u001b[0m                         Traceback (most recent call last)",
            "\u001b[0;32m<ipython-input-6-e936f320bdaf>\u001b[0m in \u001b[0;36m<module>\u001b[0;34m()\u001b[0m\n\u001b[1;32m     12\u001b[0m \u001b[0mdutch_preds\u001b[0m \u001b[0;34m=\u001b[0m \u001b[0mfitted_pipe\u001b[0m\u001b[0;34m.\u001b[0m\u001b[0mpredict\u001b[0m\u001b[0;34m(\u001b[0m\u001b[0mdutch_df\u001b[0m\u001b[0;34m)\u001b[0m\u001b[0;34m\u001b[0m\u001b[0;34m\u001b[0m\u001b[0m\n\u001b[1;32m     13\u001b[0m \u001b[0mprint\u001b[0m\u001b[0;34m(\u001b[0m\u001b[0;34m\"Predicting English tweets...\"\u001b[0m\u001b[0;34m)\u001b[0m\u001b[0;34m\u001b[0m\u001b[0;34m\u001b[0m\u001b[0m\n\u001b[0;32m---> 14\u001b[0;31m \u001b[0menglish_preds\u001b[0m \u001b[0;34m=\u001b[0m \u001b[0mfitted_pipe\u001b[0m\u001b[0;34m.\u001b[0m\u001b[0mpredict\u001b[0m\u001b[0;34m(\u001b[0m\u001b[0menglish_df\u001b[0m\u001b[0;34m)\u001b[0m\u001b[0;34m\u001b[0m\u001b[0;34m\u001b[0m\u001b[0m\n\u001b[0m",
            "\u001b[0;32m/usr/local/lib/python3.7/dist-packages/nlu/pipe/pipeline.py\u001b[0m in \u001b[0;36mpredict\u001b[0;34m(self, data, output_level, positions, keep_stranger_features, metadata, multithread, drop_irrelevant_cols, return_spark_df)\u001b[0m\n\u001b[1;32m    557\u001b[0m                                                   \u001b[0moutput_metadata\u001b[0m\u001b[0;34m=\u001b[0m\u001b[0mmetadata\u001b[0m\u001b[0;34m,\u001b[0m\u001b[0;34m\u001b[0m\u001b[0;34m\u001b[0m\u001b[0m\n\u001b[1;32m    558\u001b[0m                                                   \u001b[0mdrop_irrelevant_cols\u001b[0m\u001b[0;34m=\u001b[0m\u001b[0mdrop_irrelevant_cols\u001b[0m\u001b[0;34m,\u001b[0m\u001b[0;34m\u001b[0m\u001b[0;34m\u001b[0m\u001b[0m\n\u001b[0;32m--> 559\u001b[0;31m                                                   \u001b[0mpositions\u001b[0m\u001b[0;34m=\u001b[0m\u001b[0mpositions\u001b[0m\u001b[0;34m\u001b[0m\u001b[0;34m\u001b[0m\u001b[0m\n\u001b[0m\u001b[1;32m    560\u001b[0m                                                   )\n\u001b[1;32m    561\u001b[0m \u001b[0;34m\u001b[0m\u001b[0m\n",
            "\u001b[0;32m/usr/local/lib/python3.7/dist-packages/nlu/pipe/pipeline.py\u001b[0m in \u001b[0;36mpythonify_spark_dataframe\u001b[0;34m(self, processed, keep_stranger_features, stranger_features, drop_irrelevant_cols, output_metadata, positions)\u001b[0m\n\u001b[1;32m    336\u001b[0m         \u001b[0;31m# Processed becomes pandas\u001b[0m\u001b[0;34m\u001b[0m\u001b[0;34m\u001b[0m\u001b[0;34m\u001b[0m\u001b[0m\n\u001b[1;32m    337\u001b[0m         processed = self.unpack_and_apply_extractors(processed, keep_stranger_features, stranger_features,\n\u001b[0;32m--> 338\u001b[0;31m                                                      anno_2_ex_config)\n\u001b[0m\u001b[1;32m    339\u001b[0m         col2output_level, same_output_level, not_same_output_level = OutputLevelUtils.get_output_level_mappings(self,\n\u001b[1;32m    340\u001b[0m                                                                                                                 \u001b[0mprocessed\u001b[0m\u001b[0;34m,\u001b[0m\u001b[0;34m\u001b[0m\u001b[0;34m\u001b[0m\u001b[0m\n",
            "\u001b[0;32m/usr/local/lib/python3.7/dist-packages/nlu/pipe/pipeline.py\u001b[0m in \u001b[0;36munpack_and_apply_extractors\u001b[0;34m(self, sdf, keep_stranger_features, stranger_features, anno_2_ex_config)\u001b[0m\n\u001b[1;32m    295\u001b[0m                 \u001b[0;31m#     Default Conversion, No PyArrow (auto-Schema-Inferrence from PyArrow failed)\u001b[0m\u001b[0;34m\u001b[0m\u001b[0;34m\u001b[0m\u001b[0;34m\u001b[0m\u001b[0m\n\u001b[1;32m    296\u001b[0m                 \u001b[0mself\u001b[0m\u001b[0;34m.\u001b[0m\u001b[0mfailed_pyarrow_conversion\u001b[0m \u001b[0;34m=\u001b[0m \u001b[0;32mTrue\u001b[0m\u001b[0;34m\u001b[0m\u001b[0;34m\u001b[0m\u001b[0m\n\u001b[0;32m--> 297\u001b[0;31m                 return apply_extractors_and_merge(sdf.toPandas().applymap(extract_pyspark_rows), anno_2_ex_config,\n\u001b[0m\u001b[1;32m    298\u001b[0m                                                   keep_stranger_features, stranger_features)\n\u001b[1;32m    299\u001b[0m         \u001b[0;32melse\u001b[0m\u001b[0;34m:\u001b[0m\u001b[0;34m\u001b[0m\u001b[0;34m\u001b[0m\u001b[0m\n",
            "\u001b[0;32m/usr/local/lib/python3.7/dist-packages/pyspark/sql/pandas/conversion.py\u001b[0m in \u001b[0;36mtoPandas\u001b[0;34m(self)\u001b[0m\n\u001b[1;32m    139\u001b[0m \u001b[0;34m\u001b[0m\u001b[0m\n\u001b[1;32m    140\u001b[0m         \u001b[0;31m# Below is toPandas without Arrow optimization.\u001b[0m\u001b[0;34m\u001b[0m\u001b[0;34m\u001b[0m\u001b[0;34m\u001b[0m\u001b[0m\n\u001b[0;32m--> 141\u001b[0;31m         \u001b[0mpdf\u001b[0m \u001b[0;34m=\u001b[0m \u001b[0mpd\u001b[0m\u001b[0;34m.\u001b[0m\u001b[0mDataFrame\u001b[0m\u001b[0;34m.\u001b[0m\u001b[0mfrom_records\u001b[0m\u001b[0;34m(\u001b[0m\u001b[0mself\u001b[0m\u001b[0;34m.\u001b[0m\u001b[0mcollect\u001b[0m\u001b[0;34m(\u001b[0m\u001b[0;34m)\u001b[0m\u001b[0;34m,\u001b[0m \u001b[0mcolumns\u001b[0m\u001b[0;34m=\u001b[0m\u001b[0mself\u001b[0m\u001b[0;34m.\u001b[0m\u001b[0mcolumns\u001b[0m\u001b[0;34m)\u001b[0m\u001b[0;34m\u001b[0m\u001b[0;34m\u001b[0m\u001b[0m\n\u001b[0m\u001b[1;32m    142\u001b[0m         \u001b[0mcolumn_counter\u001b[0m \u001b[0;34m=\u001b[0m \u001b[0mCounter\u001b[0m\u001b[0;34m(\u001b[0m\u001b[0mself\u001b[0m\u001b[0;34m.\u001b[0m\u001b[0mcolumns\u001b[0m\u001b[0;34m)\u001b[0m\u001b[0;34m\u001b[0m\u001b[0;34m\u001b[0m\u001b[0m\n\u001b[1;32m    143\u001b[0m \u001b[0;34m\u001b[0m\u001b[0m\n",
            "\u001b[0;32m/usr/local/lib/python3.7/dist-packages/pyspark/sql/dataframe.py\u001b[0m in \u001b[0;36mcollect\u001b[0;34m(self)\u001b[0m\n\u001b[1;32m    675\u001b[0m         \"\"\"\n\u001b[1;32m    676\u001b[0m         \u001b[0;32mwith\u001b[0m \u001b[0mSCCallSiteSync\u001b[0m\u001b[0;34m(\u001b[0m\u001b[0mself\u001b[0m\u001b[0;34m.\u001b[0m\u001b[0m_sc\u001b[0m\u001b[0;34m)\u001b[0m \u001b[0;32mas\u001b[0m \u001b[0mcss\u001b[0m\u001b[0;34m:\u001b[0m\u001b[0;34m\u001b[0m\u001b[0;34m\u001b[0m\u001b[0m\n\u001b[0;32m--> 677\u001b[0;31m             \u001b[0msock_info\u001b[0m \u001b[0;34m=\u001b[0m \u001b[0mself\u001b[0m\u001b[0;34m.\u001b[0m\u001b[0m_jdf\u001b[0m\u001b[0;34m.\u001b[0m\u001b[0mcollectToPython\u001b[0m\u001b[0;34m(\u001b[0m\u001b[0;34m)\u001b[0m\u001b[0;34m\u001b[0m\u001b[0;34m\u001b[0m\u001b[0m\n\u001b[0m\u001b[1;32m    678\u001b[0m         \u001b[0;32mreturn\u001b[0m \u001b[0mlist\u001b[0m\u001b[0;34m(\u001b[0m\u001b[0m_load_from_socket\u001b[0m\u001b[0;34m(\u001b[0m\u001b[0msock_info\u001b[0m\u001b[0;34m,\u001b[0m \u001b[0mBatchedSerializer\u001b[0m\u001b[0;34m(\u001b[0m\u001b[0mPickleSerializer\u001b[0m\u001b[0;34m(\u001b[0m\u001b[0;34m)\u001b[0m\u001b[0;34m)\u001b[0m\u001b[0;34m)\u001b[0m\u001b[0;34m)\u001b[0m\u001b[0;34m\u001b[0m\u001b[0;34m\u001b[0m\u001b[0m\n\u001b[1;32m    679\u001b[0m \u001b[0;34m\u001b[0m\u001b[0m\n",
            "\u001b[0;32m/usr/local/lib/python3.7/dist-packages/py4j/java_gateway.py\u001b[0m in \u001b[0;36m__call__\u001b[0;34m(self, *args)\u001b[0m\n\u001b[1;32m   1301\u001b[0m             \u001b[0mproto\u001b[0m\u001b[0;34m.\u001b[0m\u001b[0mEND_COMMAND_PART\u001b[0m\u001b[0;34m\u001b[0m\u001b[0;34m\u001b[0m\u001b[0m\n\u001b[1;32m   1302\u001b[0m \u001b[0;34m\u001b[0m\u001b[0m\n\u001b[0;32m-> 1303\u001b[0;31m         \u001b[0manswer\u001b[0m \u001b[0;34m=\u001b[0m \u001b[0mself\u001b[0m\u001b[0;34m.\u001b[0m\u001b[0mgateway_client\u001b[0m\u001b[0;34m.\u001b[0m\u001b[0msend_command\u001b[0m\u001b[0;34m(\u001b[0m\u001b[0mcommand\u001b[0m\u001b[0;34m)\u001b[0m\u001b[0;34m\u001b[0m\u001b[0;34m\u001b[0m\u001b[0m\n\u001b[0m\u001b[1;32m   1304\u001b[0m         return_value = get_return_value(\n\u001b[1;32m   1305\u001b[0m             answer, self.gateway_client, self.target_id, self.name)\n",
            "\u001b[0;32m/usr/local/lib/python3.7/dist-packages/py4j/java_gateway.py\u001b[0m in \u001b[0;36msend_command\u001b[0;34m(self, command, retry, binary)\u001b[0m\n\u001b[1;32m   1031\u001b[0m         \u001b[0mconnection\u001b[0m \u001b[0;34m=\u001b[0m \u001b[0mself\u001b[0m\u001b[0;34m.\u001b[0m\u001b[0m_get_connection\u001b[0m\u001b[0;34m(\u001b[0m\u001b[0;34m)\u001b[0m\u001b[0;34m\u001b[0m\u001b[0;34m\u001b[0m\u001b[0m\n\u001b[1;32m   1032\u001b[0m         \u001b[0;32mtry\u001b[0m\u001b[0;34m:\u001b[0m\u001b[0;34m\u001b[0m\u001b[0;34m\u001b[0m\u001b[0m\n\u001b[0;32m-> 1033\u001b[0;31m             \u001b[0mresponse\u001b[0m \u001b[0;34m=\u001b[0m \u001b[0mconnection\u001b[0m\u001b[0;34m.\u001b[0m\u001b[0msend_command\u001b[0m\u001b[0;34m(\u001b[0m\u001b[0mcommand\u001b[0m\u001b[0;34m)\u001b[0m\u001b[0;34m\u001b[0m\u001b[0;34m\u001b[0m\u001b[0m\n\u001b[0m\u001b[1;32m   1034\u001b[0m             \u001b[0;32mif\u001b[0m \u001b[0mbinary\u001b[0m\u001b[0;34m:\u001b[0m\u001b[0;34m\u001b[0m\u001b[0;34m\u001b[0m\u001b[0m\n\u001b[1;32m   1035\u001b[0m                 \u001b[0;32mreturn\u001b[0m \u001b[0mresponse\u001b[0m\u001b[0;34m,\u001b[0m \u001b[0mself\u001b[0m\u001b[0;34m.\u001b[0m\u001b[0m_create_connection_guard\u001b[0m\u001b[0;34m(\u001b[0m\u001b[0mconnection\u001b[0m\u001b[0;34m)\u001b[0m\u001b[0;34m\u001b[0m\u001b[0;34m\u001b[0m\u001b[0m\n",
            "\u001b[0;32m/usr/local/lib/python3.7/dist-packages/py4j/java_gateway.py\u001b[0m in \u001b[0;36msend_command\u001b[0;34m(self, command)\u001b[0m\n\u001b[1;32m   1198\u001b[0m \u001b[0;34m\u001b[0m\u001b[0m\n\u001b[1;32m   1199\u001b[0m         \u001b[0;32mtry\u001b[0m\u001b[0;34m:\u001b[0m\u001b[0;34m\u001b[0m\u001b[0;34m\u001b[0m\u001b[0m\n\u001b[0;32m-> 1200\u001b[0;31m             \u001b[0manswer\u001b[0m \u001b[0;34m=\u001b[0m \u001b[0msmart_decode\u001b[0m\u001b[0;34m(\u001b[0m\u001b[0mself\u001b[0m\u001b[0;34m.\u001b[0m\u001b[0mstream\u001b[0m\u001b[0;34m.\u001b[0m\u001b[0mreadline\u001b[0m\u001b[0;34m(\u001b[0m\u001b[0;34m)\u001b[0m\u001b[0;34m[\u001b[0m\u001b[0;34m:\u001b[0m\u001b[0;34m-\u001b[0m\u001b[0;36m1\u001b[0m\u001b[0;34m]\u001b[0m\u001b[0;34m)\u001b[0m\u001b[0;34m\u001b[0m\u001b[0;34m\u001b[0m\u001b[0m\n\u001b[0m\u001b[1;32m   1201\u001b[0m             \u001b[0mlogger\u001b[0m\u001b[0;34m.\u001b[0m\u001b[0mdebug\u001b[0m\u001b[0;34m(\u001b[0m\u001b[0;34m\"Answer received: {0}\"\u001b[0m\u001b[0;34m.\u001b[0m\u001b[0mformat\u001b[0m\u001b[0;34m(\u001b[0m\u001b[0manswer\u001b[0m\u001b[0;34m)\u001b[0m\u001b[0;34m)\u001b[0m\u001b[0;34m\u001b[0m\u001b[0;34m\u001b[0m\u001b[0m\n\u001b[1;32m   1202\u001b[0m             \u001b[0;32mif\u001b[0m \u001b[0manswer\u001b[0m\u001b[0;34m.\u001b[0m\u001b[0mstartswith\u001b[0m\u001b[0;34m(\u001b[0m\u001b[0mproto\u001b[0m\u001b[0;34m.\u001b[0m\u001b[0mRETURN_MESSAGE\u001b[0m\u001b[0;34m)\u001b[0m\u001b[0;34m:\u001b[0m\u001b[0;34m\u001b[0m\u001b[0;34m\u001b[0m\u001b[0m\n",
            "\u001b[0;32m/usr/lib/python3.7/socket.py\u001b[0m in \u001b[0;36mreadinto\u001b[0;34m(self, b)\u001b[0m\n\u001b[1;32m    587\u001b[0m         \u001b[0;32mwhile\u001b[0m \u001b[0;32mTrue\u001b[0m\u001b[0;34m:\u001b[0m\u001b[0;34m\u001b[0m\u001b[0;34m\u001b[0m\u001b[0m\n\u001b[1;32m    588\u001b[0m             \u001b[0;32mtry\u001b[0m\u001b[0;34m:\u001b[0m\u001b[0;34m\u001b[0m\u001b[0;34m\u001b[0m\u001b[0m\n\u001b[0;32m--> 589\u001b[0;31m                 \u001b[0;32mreturn\u001b[0m \u001b[0mself\u001b[0m\u001b[0;34m.\u001b[0m\u001b[0m_sock\u001b[0m\u001b[0;34m.\u001b[0m\u001b[0mrecv_into\u001b[0m\u001b[0;34m(\u001b[0m\u001b[0mb\u001b[0m\u001b[0;34m)\u001b[0m\u001b[0;34m\u001b[0m\u001b[0;34m\u001b[0m\u001b[0m\n\u001b[0m\u001b[1;32m    590\u001b[0m             \u001b[0;32mexcept\u001b[0m \u001b[0mtimeout\u001b[0m\u001b[0;34m:\u001b[0m\u001b[0;34m\u001b[0m\u001b[0;34m\u001b[0m\u001b[0m\n\u001b[1;32m    591\u001b[0m                 \u001b[0mself\u001b[0m\u001b[0;34m.\u001b[0m\u001b[0m_timeout_occurred\u001b[0m \u001b[0;34m=\u001b[0m \u001b[0;32mTrue\u001b[0m\u001b[0;34m\u001b[0m\u001b[0;34m\u001b[0m\u001b[0m\n",
            "\u001b[0;31mKeyboardInterrupt\u001b[0m: "
          ]
        }
      ]
    },
    {
      "cell_type": "code",
      "metadata": {
        "id": "169H8yFXGWzs",
        "outputId": "fb43fcf7-4a0c-4a58-f8c3-4d37d1d9b6ed",
        "colab": {
          "base_uri": "https://localhost:8080/",
          "height": 481
        }
      },
      "source": [
        "pd.set_option('display.max_colwidth', None)\n",
        "dutch_preds[['document', 'y']][-10:-1]\n"
      ],
      "execution_count": 14,
      "outputs": [
        {
          "output_type": "execute_result",
          "data": {
            "text/html": [
              "<div>\n",
              "<style scoped>\n",
              "    .dataframe tbody tr th:only-of-type {\n",
              "        vertical-align: middle;\n",
              "    }\n",
              "\n",
              "    .dataframe tbody tr th {\n",
              "        vertical-align: top;\n",
              "    }\n",
              "\n",
              "    .dataframe thead th {\n",
              "        text-align: right;\n",
              "    }\n",
              "</style>\n",
              "<table border=\"1\" class=\"dataframe\">\n",
              "  <thead>\n",
              "    <tr style=\"text-align: right;\">\n",
              "      <th></th>\n",
              "      <th>document</th>\n",
              "      <th>y</th>\n",
              "    </tr>\n",
              "  </thead>\n",
              "  <tbody>\n",
              "    <tr>\n",
              "      <th>1207</th>\n",
              "      <td>Overgang van veld naar zaal voor de jeugd! - Het veldseizoen zit er al bijna op waarbij de B1 en de beide C teams kampioen zijn geworden! Verder toch weer een bijzonder seizoen waarbij we zeker (met de nodige flexibiliteit) wedstrijden hebben ... - https://t.co/drJpnaPPWQ</td>\n",
              "      <td>positive</td>\n",
              "    </tr>\n",
              "    <tr>\n",
              "      <th>1208</th>\n",
              "      <td>Jongeren in NL ervaren in toenemende mate ongezonde #stress en prestatiedruk. De regionale kenniswerkplaats jeugd en gezin centraal heeft 6 aanbevelingen om deze druk te verminderen. #NetwerkBeterSamen #thuiszitters #passendonderwijs #leerrecht #Utrecht https://t.co/4yvk9QBUCd</td>\n",
              "      <td>negative</td>\n",
              "    </tr>\n",
              "    <tr>\n",
              "      <th>1209</th>\n",
              "      <td>@EelcoHoecke Eens Eelco zo klaar met die jankbeer van het CDA die Afghaanse vakantieman van het @cda die nog langere wachtlijsten voor woningen wil voor onze jeugd.</td>\n",
              "      <td>negative</td>\n",
              "    </tr>\n",
              "    <tr>\n",
              "      <th>1210</th>\n",
              "      <td>Schiedam JWTV • VIDEO • Jeugdtrainers Sparta geven clinic aan jeugd Kethel Spaland • #Schiedam https://t.co/T4ewYKTirW</td>\n",
              "      <td>neutral</td>\n",
              "    </tr>\n",
              "    <tr>\n",
              "      <th>1211</th>\n",
              "      <td>@artbysophia Diegene die aan de basis stond is later twee keer voor kindermisbruik veroordeeld. Zo onguur is die jeugd-industrie. Las een aanbeveling op LinkedIn vd teamleider over hoe goed ze is in het geld binnenhalen.</td>\n",
              "      <td>negative</td>\n",
              "    </tr>\n",
              "    <tr>\n",
              "      <th>1212</th>\n",
              "      <td>@voetveeg_joeri Ik raak van slag als ik me bedenk dat deze band meer aanhang heeft onder de 40+ers dan onder de jeugd ;)</td>\n",
              "      <td>negative</td>\n",
              "    </tr>\n",
              "    <tr>\n",
              "      <th>1213</th>\n",
              "      <td>@VanderVegt1973 @SteenksRafaela Ik ook. In mn jeugd paar keer per jaar logeren Kieldrecht en Merksem. Bij familie. Super leuke tijd en een heerlijke taal. Bier bij de lunche ipv water. En gevulde chocolade reep erna.</td>\n",
              "      <td>positive</td>\n",
              "    </tr>\n",
              "    <tr>\n",
              "      <th>1214</th>\n",
              "      <td>@wierdduk De Hollandse jeugd zijn de nieuwe Engelsen!</td>\n",
              "      <td>negative</td>\n",
              "    </tr>\n",
              "    <tr>\n",
              "      <th>1215</th>\n",
              "      <td>@sonnyspek Nee ik heb een gelukkige jeugd gehad. De basisschooltijd was leuker. De middelbare school was minder leuk maar nog altijd leuker dan mijn studententijd. De tijd na mijn studie is ook leuker. Eigenlijk was mijn studententijd dus de slechtste tijd van mijn leven. 😉</td>\n",
              "      <td>positive</td>\n",
              "    </tr>\n",
              "  </tbody>\n",
              "</table>\n",
              "</div>"
            ],
            "text/plain": [
              "                                                                                                                                                                                                                                                                                   document         y\n",
              "1207       Overgang van veld naar zaal voor de jeugd! - Het veldseizoen zit er al bijna op waarbij de B1 en de beide C teams kampioen zijn geworden! Verder toch weer een bijzonder seizoen waarbij we zeker (met de nodige flexibiliteit) wedstrijden hebben ... - https://t.co/drJpnaPPWQ  positive\n",
              "1208  Jongeren in NL ervaren in toenemende mate ongezonde #stress en prestatiedruk. De regionale kenniswerkplaats jeugd en gezin centraal heeft 6 aanbevelingen om deze druk te verminderen. #NetwerkBeterSamen #thuiszitters #passendonderwijs #leerrecht #Utrecht https://t.co/4yvk9QBUCd  negative\n",
              "1209                                                                                                                   @EelcoHoecke Eens Eelco zo klaar met die jankbeer van het CDA die Afghaanse vakantieman van het @cda die nog langere wachtlijsten voor woningen wil voor onze jeugd.  negative\n",
              "1210                                                                                                                                                                 Schiedam JWTV • VIDEO • Jeugdtrainers Sparta geven clinic aan jeugd Kethel Spaland • #Schiedam https://t.co/T4ewYKTirW   neutral\n",
              "1211                                                           @artbysophia Diegene die aan de basis stond is later twee keer voor kindermisbruik veroordeeld. Zo onguur is die jeugd-industrie. Las een aanbeveling op LinkedIn vd teamleider over hoe goed ze is in het geld binnenhalen.  negative\n",
              "1212                                                                                                                                                               @voetveeg_joeri Ik raak van slag als ik me bedenk dat deze band meer aanhang heeft onder de 40+ers dan onder de jeugd ;)  negative\n",
              "1213                                                               @VanderVegt1973 @SteenksRafaela Ik ook. In mn jeugd paar keer per jaar logeren Kieldrecht en Merksem. Bij familie. Super leuke tijd en een heerlijke taal. Bier bij de lunche ipv water. En gevulde chocolade reep erna.  positive\n",
              "1214                                                                                                                                                                                                                                  @wierdduk De Hollandse jeugd zijn de nieuwe Engelsen!  negative\n",
              "1215     @sonnyspek Nee ik heb een gelukkige jeugd gehad. De basisschooltijd was leuker. De middelbare school was minder leuk maar nog altijd leuker dan mijn studententijd. De tijd na mijn studie is ook leuker. Eigenlijk was mijn studententijd dus de slechtste tijd van mijn leven. 😉  positive"
            ]
          },
          "metadata": {},
          "execution_count": 14
        }
      ]
    },
    {
      "cell_type": "markdown",
      "metadata": {
        "id": "_1jxw3GnVGlI"
      },
      "source": [
        "# 3.1 evaluate on Test Data"
      ]
    },
    {
      "cell_type": "code",
      "metadata": {
        "colab": {
          "base_uri": "https://localhost:8080/"
        },
        "id": "Fxx4yNkNVGFl",
        "outputId": "cbfaaa96-be72-4398-911b-a558beb4c02c"
      },
      "source": [
        "preds = fitted_pipe.predict(test_df,output_level='document')\n",
        "\n",
        "#sentence detector that is part of the pipe generates sone NaNs. lets drop them first\n",
        "preds.dropna(inplace=True)\n",
        "print(classification_report(preds['y'], preds['trained_sentiment']))\n"
      ],
      "execution_count": 5,
      "outputs": [
        {
          "output_type": "stream",
          "name": "stdout",
          "text": [
            "              precision    recall  f1-score   support\n",
            "\n",
            "    negative       0.84      0.74      0.79        65\n",
            "     neutral       0.00      0.00      0.00         0\n",
            "    positive       0.73      0.78      0.75        55\n",
            "\n",
            "    accuracy                           0.76       120\n",
            "   macro avg       0.52      0.51      0.51       120\n",
            "weighted avg       0.79      0.76      0.77       120\n",
            "\n"
          ]
        }
      ]
    },
    {
      "cell_type": "markdown",
      "metadata": {
        "id": "BD5OKO4Umc5U"
      },
      "source": [
        "# 4. Test Model  on 20 languages!"
      ]
    },
    {
      "cell_type": "code",
      "metadata": {
        "id": "OQ72hP9unML7",
        "colab": {
          "base_uri": "https://localhost:8080/",
          "height": 776
        },
        "outputId": "409a40af-dff1-4910-8136-c74f09527aa5"
      },
      "source": [
        "train_df = pd.read_csv(\"/content/twitter_data_multi_lang.csv\")\n",
        "preds = fitted_pipe.predict(train_df[[\"test_sentences\",\"y\"]].iloc[:100],output_level='document')\n",
        "\n",
        "#sentence detector that is part of the pipe generates sone NaNs. lets drop them first\n",
        "preds.dropna(inplace=True)\n",
        "print(classification_report(preds['y'], preds['trained_sentiment']))\n",
        "\n",
        "\n",
        "preds"
      ],
      "execution_count": null,
      "outputs": [
        {
          "output_type": "stream",
          "text": [
            "              precision    recall  f1-score   support\n",
            "\n",
            "    negative       0.83      0.82      0.82        49\n",
            "     neutral       0.00      0.00      0.00         0\n",
            "    positive       0.85      0.80      0.83        51\n",
            "\n",
            "    accuracy                           0.81       100\n",
            "   macro avg       0.56      0.54      0.55       100\n",
            "weighted avg       0.84      0.81      0.83       100\n",
            "\n"
          ],
          "name": "stdout"
        },
        {
          "output_type": "execute_result",
          "data": {
            "text/html": [
              "<div>\n",
              "<style scoped>\n",
              "    .dataframe tbody tr th:only-of-type {\n",
              "        vertical-align: middle;\n",
              "    }\n",
              "\n",
              "    .dataframe tbody tr th {\n",
              "        vertical-align: top;\n",
              "    }\n",
              "\n",
              "    .dataframe thead th {\n",
              "        text-align: right;\n",
              "    }\n",
              "</style>\n",
              "<table border=\"1\" class=\"dataframe\">\n",
              "  <thead>\n",
              "    <tr style=\"text-align: right;\">\n",
              "      <th></th>\n",
              "      <th>trained_sentiment_confidence</th>\n",
              "      <th>document</th>\n",
              "      <th>origin_index</th>\n",
              "      <th>y</th>\n",
              "      <th>trained_sentiment</th>\n",
              "      <th>text</th>\n",
              "      <th>sentence</th>\n",
              "      <th>sentence_embedding_labse</th>\n",
              "    </tr>\n",
              "  </thead>\n",
              "  <tbody>\n",
              "    <tr>\n",
              "      <th>0</th>\n",
              "      <td>0.999401</td>\n",
              "      <td>how narendra modi has almost killed the indian...</td>\n",
              "      <td>0</td>\n",
              "      <td>negative</td>\n",
              "      <td>negative</td>\n",
              "      <td>how narendra modi has almost killed the indian...</td>\n",
              "      <td>[how narendra modi has almost killed the india...</td>\n",
              "      <td>[-0.05593567714095116, 0.050420816987752914, -...</td>\n",
              "    </tr>\n",
              "    <tr>\n",
              "      <th>1</th>\n",
              "      <td>0.995770</td>\n",
              "      <td>تعتقد أنه كان مودي وراء هذا الحادث</td>\n",
              "      <td>1</td>\n",
              "      <td>negative</td>\n",
              "      <td>negative</td>\n",
              "      <td>تعتقد أنه كان مودي وراء هذا الحادث</td>\n",
              "      <td>[تعتقد أنه كان مودي وراء هذا الحادث]</td>\n",
              "      <td>[0.007358793169260025, -0.0520767867565155, 0....</td>\n",
              "    </tr>\n",
              "    <tr>\n",
              "      <th>2</th>\n",
              "      <td>0.998129</td>\n",
              "      <td>カマル・ハサーンがチョウキダール・モディを連れて行くカマル・ハサーン・モディの金持ちが貧しい...</td>\n",
              "      <td>2</td>\n",
              "      <td>negative</td>\n",
              "      <td>negative</td>\n",
              "      <td>カマル・ハサーンがチョウキダール・モディを連れて行くカマル・ハサーン・モディの金持ちが貧しい...</td>\n",
              "      <td>[カマル・ハサーンがチョウキダール・モディを連れて行くカマル・ハサーン・モディの金持ちが貧し...</td>\n",
              "      <td>[-0.012155424803495407, -0.02065391279757023, ...</td>\n",
              "    </tr>\n",
              "    <tr>\n",
              "      <th>3</th>\n",
              "      <td>0.998547</td>\n",
              "      <td>связанное имя с фамилией, а не bcz религия, св...</td>\n",
              "      <td>3</td>\n",
              "      <td>negative</td>\n",
              "      <td>negative</td>\n",
              "      <td>связанное имя с фамилией, а не bcz религия, св...</td>\n",
              "      <td>[связанное имя с фамилией, а не bcz религия, с...</td>\n",
              "      <td>[-0.006620907690376043, 0.02574392780661583, -...</td>\n",
              "    </tr>\n",
              "    <tr>\n",
              "      <th>4</th>\n",
              "      <td>1.000000</td>\n",
              "      <td>kdokoli lepší než modi, když nehruji vypršela,...</td>\n",
              "      <td>4</td>\n",
              "      <td>positive</td>\n",
              "      <td>positive</td>\n",
              "      <td>kdokoli lepší než modi, když nehruji vypršela,...</td>\n",
              "      <td>[kdokoli lepší než modi, když nehruji vypršela...</td>\n",
              "      <td>[-0.04917769134044647, 0.017523039132356644, -...</td>\n",
              "    </tr>\n",
              "    <tr>\n",
              "      <th>...</th>\n",
              "      <td>...</td>\n",
              "      <td>...</td>\n",
              "      <td>...</td>\n",
              "      <td>...</td>\n",
              "      <td>...</td>\n",
              "      <td>...</td>\n",
              "      <td>...</td>\n",
              "      <td>...</td>\n",
              "    </tr>\n",
              "    <tr>\n",
              "      <th>95</th>\n",
              "      <td>0.999987</td>\n",
              "      <td>lol qui va épouser son hippopotame tous les ho...</td>\n",
              "      <td>95</td>\n",
              "      <td>positive</td>\n",
              "      <td>positive</td>\n",
              "      <td>lol qui va épouser son hippopotame tous les ho...</td>\n",
              "      <td>[lol qui va épouser son hippopotame tous les h...</td>\n",
              "      <td>[-0.01001912634819746, -0.031715311110019684, ...</td>\n",
              "    </tr>\n",
              "    <tr>\n",
              "      <th>96</th>\n",
              "      <td>0.999994</td>\n",
              "      <td>拉贾斯坦邦州长卡莉安·辛格·阿里加3月23日全都是bjp工人，希望bjp胜利，希望莫迪再次成...</td>\n",
              "      <td>96</td>\n",
              "      <td>positive</td>\n",
              "      <td>positive</td>\n",
              "      <td>拉贾斯坦邦州长卡莉安·辛格·阿里加3月23日全都是bjp工人，希望bjp胜利，希望莫迪再次成...</td>\n",
              "      <td>[拉贾斯坦邦州长卡莉安·辛格·阿里加3月23日全都是bjp工人，希望bjp胜利，希望莫迪再次...</td>\n",
              "      <td>[0.009000560268759727, -0.021888386458158493, ...</td>\n",
              "    </tr>\n",
              "    <tr>\n",
              "      <th>97</th>\n",
              "      <td>0.979382</td>\n",
              "      <td>మోడీ భక్తులు రాహుల్ గురించి అబద్ధాలు చెబుతున్న...</td>\n",
              "      <td>97</td>\n",
              "      <td>positive</td>\n",
              "      <td>positive</td>\n",
              "      <td>మోడీ భక్తులు రాహుల్ గురించి అబద్ధాలు చెబుతున్న...</td>\n",
              "      <td>[మోడీ భక్తులు రాహుల్ గురించి అబద్ధాలు చెబుతున్...</td>\n",
              "      <td>[-0.05518203601241112, -0.0041709886863827705,...</td>\n",
              "    </tr>\n",
              "    <tr>\n",
              "      <th>98</th>\n",
              "      <td>0.882261</td>\n",
              "      <td>lol neha, je to jako dát hlavu zabít těm, kteř...</td>\n",
              "      <td>98</td>\n",
              "      <td>positive</td>\n",
              "      <td>positive</td>\n",
              "      <td>lol neha, je to jako dát hlavu zabít těm, kteř...</td>\n",
              "      <td>[lol neha, je to jako dát hlavu zabít těm, kte...</td>\n",
              "      <td>[-0.019701892510056496, -0.01936856471002102, ...</td>\n",
              "    </tr>\n",
              "    <tr>\n",
              "      <th>99</th>\n",
              "      <td>0.999997</td>\n",
              "      <td>por favor venda nuestro bosque por favor haga ...</td>\n",
              "      <td>99</td>\n",
              "      <td>positive</td>\n",
              "      <td>positive</td>\n",
              "      <td>por favor venda nuestro bosque por favor haga ...</td>\n",
              "      <td>[por favor venda nuestro bosque por favor haga...</td>\n",
              "      <td>[-0.039666254073381424, -0.0194801464676857, -...</td>\n",
              "    </tr>\n",
              "  </tbody>\n",
              "</table>\n",
              "<p>100 rows × 8 columns</p>\n",
              "</div>"
            ],
            "text/plain": [
              "    trained_sentiment_confidence  ...                           sentence_embedding_labse\n",
              "0                       0.999401  ...  [-0.05593567714095116, 0.050420816987752914, -...\n",
              "1                       0.995770  ...  [0.007358793169260025, -0.0520767867565155, 0....\n",
              "2                       0.998129  ...  [-0.012155424803495407, -0.02065391279757023, ...\n",
              "3                       0.998547  ...  [-0.006620907690376043, 0.02574392780661583, -...\n",
              "4                       1.000000  ...  [-0.04917769134044647, 0.017523039132356644, -...\n",
              "..                           ...  ...                                                ...\n",
              "95                      0.999987  ...  [-0.01001912634819746, -0.031715311110019684, ...\n",
              "96                      0.999994  ...  [0.009000560268759727, -0.021888386458158493, ...\n",
              "97                      0.979382  ...  [-0.05518203601241112, -0.0041709886863827705,...\n",
              "98                      0.882261  ...  [-0.019701892510056496, -0.01936856471002102, ...\n",
              "99                      0.999997  ...  [-0.039666254073381424, -0.0194801464676857, -...\n",
              "\n",
              "[100 rows x 8 columns]"
            ]
          },
          "metadata": {
            "tags": []
          },
          "execution_count": 6
        }
      ]
    },
    {
      "cell_type": "markdown",
      "metadata": {
        "id": "RjtuNUcvuJTT"
      },
      "source": [
        "# The Model understands Englsih\n",
        "![en](https://www.worldometers.info/img/flags/small/tn_nz-flag.gif)"
      ]
    },
    {
      "cell_type": "code",
      "metadata": {
        "colab": {
          "base_uri": "https://localhost:8080/",
          "height": 80
        },
        "id": "o0vu7PaWkcI7",
        "outputId": "c5dd75ba-92bc-45b9-f6da-e44f6a90b35e"
      },
      "source": [
        "fitted_pipe.predict(\"Congress's new policies made many people sad \")\n"
      ],
      "execution_count": null,
      "outputs": [
        {
          "output_type": "execute_result",
          "data": {
            "text/html": [
              "<div>\n",
              "<style scoped>\n",
              "    .dataframe tbody tr th:only-of-type {\n",
              "        vertical-align: middle;\n",
              "    }\n",
              "\n",
              "    .dataframe tbody tr th {\n",
              "        vertical-align: top;\n",
              "    }\n",
              "\n",
              "    .dataframe thead th {\n",
              "        text-align: right;\n",
              "    }\n",
              "</style>\n",
              "<table border=\"1\" class=\"dataframe\">\n",
              "  <thead>\n",
              "    <tr style=\"text-align: right;\">\n",
              "      <th></th>\n",
              "      <th>trained_sentiment_confidence</th>\n",
              "      <th>document</th>\n",
              "      <th>origin_index</th>\n",
              "      <th>trained_sentiment</th>\n",
              "      <th>sentence</th>\n",
              "      <th>sentence_embedding_labse</th>\n",
              "    </tr>\n",
              "  </thead>\n",
              "  <tbody>\n",
              "    <tr>\n",
              "      <th>0</th>\n",
              "      <td>0.971534</td>\n",
              "      <td>Congress's new policies made many people sad</td>\n",
              "      <td>0</td>\n",
              "      <td>negative</td>\n",
              "      <td>[Congress's new policies made many people sad]</td>\n",
              "      <td>[0.004380704369395971, -0.00210917298682034, -...</td>\n",
              "    </tr>\n",
              "  </tbody>\n",
              "</table>\n",
              "</div>"
            ],
            "text/plain": [
              "   trained_sentiment_confidence  ...                           sentence_embedding_labse\n",
              "0                      0.971534  ...  [0.004380704369395971, -0.00210917298682034, -...\n",
              "\n",
              "[1 rows x 6 columns]"
            ]
          },
          "metadata": {
            "tags": []
          },
          "execution_count": 7
        }
      ]
    },
    {
      "cell_type": "code",
      "metadata": {
        "colab": {
          "base_uri": "https://localhost:8080/",
          "height": 80
        },
        "id": "1ykjRQhCtQ4w",
        "outputId": "1bfa4d52-54a2-43e3-99ed-b054129c8b41"
      },
      "source": [
        "fitted_pipe.predict(\"Congress's new policies made many people happy \")\n"
      ],
      "execution_count": null,
      "outputs": [
        {
          "output_type": "execute_result",
          "data": {
            "text/html": [
              "<div>\n",
              "<style scoped>\n",
              "    .dataframe tbody tr th:only-of-type {\n",
              "        vertical-align: middle;\n",
              "    }\n",
              "\n",
              "    .dataframe tbody tr th {\n",
              "        vertical-align: top;\n",
              "    }\n",
              "\n",
              "    .dataframe thead th {\n",
              "        text-align: right;\n",
              "    }\n",
              "</style>\n",
              "<table border=\"1\" class=\"dataframe\">\n",
              "  <thead>\n",
              "    <tr style=\"text-align: right;\">\n",
              "      <th></th>\n",
              "      <th>trained_sentiment_confidence</th>\n",
              "      <th>document</th>\n",
              "      <th>origin_index</th>\n",
              "      <th>trained_sentiment</th>\n",
              "      <th>sentence</th>\n",
              "      <th>sentence_embedding_labse</th>\n",
              "    </tr>\n",
              "  </thead>\n",
              "  <tbody>\n",
              "    <tr>\n",
              "      <th>0</th>\n",
              "      <td>0.999984</td>\n",
              "      <td>Congress's new policies made many people happy</td>\n",
              "      <td>0</td>\n",
              "      <td>positive</td>\n",
              "      <td>[Congress's new policies made many people happy]</td>\n",
              "      <td>[0.025979558005928993, -0.007445275783538818, ...</td>\n",
              "    </tr>\n",
              "  </tbody>\n",
              "</table>\n",
              "</div>"
            ],
            "text/plain": [
              "   trained_sentiment_confidence  ...                           sentence_embedding_labse\n",
              "0                      0.999984  ...  [0.025979558005928993, -0.007445275783538818, ...\n",
              "\n",
              "[1 rows x 6 columns]"
            ]
          },
          "metadata": {
            "tags": []
          },
          "execution_count": 8
        }
      ]
    },
    {
      "cell_type": "markdown",
      "metadata": {
        "id": "vohym-XbuNHn"
      },
      "source": [
        "# The Model understands German\n",
        "![de](https://www.worldometers.info/img/flags/small/tn_gm-flag.gif)"
      ]
    },
    {
      "cell_type": "code",
      "metadata": {
        "colab": {
          "base_uri": "https://localhost:8080/",
          "height": 80
        },
        "id": "dzaaZrI4tVWc",
        "outputId": "7a0eeb2c-0d28-4bfa-fe8b-a5827afe89f1"
      },
      "source": [
        "# German for: 'Congress's newest polices made many people poor, sad and depressed '\n",
        "fitted_pipe.predict(\"Die neue Politik des Kongresses machte viele Menschen arm, traurig und depressiv \")\n"
      ],
      "execution_count": null,
      "outputs": [
        {
          "output_type": "execute_result",
          "data": {
            "text/html": [
              "<div>\n",
              "<style scoped>\n",
              "    .dataframe tbody tr th:only-of-type {\n",
              "        vertical-align: middle;\n",
              "    }\n",
              "\n",
              "    .dataframe tbody tr th {\n",
              "        vertical-align: top;\n",
              "    }\n",
              "\n",
              "    .dataframe thead th {\n",
              "        text-align: right;\n",
              "    }\n",
              "</style>\n",
              "<table border=\"1\" class=\"dataframe\">\n",
              "  <thead>\n",
              "    <tr style=\"text-align: right;\">\n",
              "      <th></th>\n",
              "      <th>trained_sentiment_confidence</th>\n",
              "      <th>document</th>\n",
              "      <th>origin_index</th>\n",
              "      <th>trained_sentiment</th>\n",
              "      <th>sentence</th>\n",
              "      <th>sentence_embedding_labse</th>\n",
              "    </tr>\n",
              "  </thead>\n",
              "  <tbody>\n",
              "    <tr>\n",
              "      <th>0</th>\n",
              "      <td>0.779711</td>\n",
              "      <td>Die neue Politik des Kongresses machte viele M...</td>\n",
              "      <td>0</td>\n",
              "      <td>negative</td>\n",
              "      <td>[Die neue Politik des Kongresses machte viele ...</td>\n",
              "      <td>[-0.02746928110718727, 0.015148899517953396, -...</td>\n",
              "    </tr>\n",
              "  </tbody>\n",
              "</table>\n",
              "</div>"
            ],
            "text/plain": [
              "   trained_sentiment_confidence  ...                           sentence_embedding_labse\n",
              "0                      0.779711  ...  [-0.02746928110718727, 0.015148899517953396, -...\n",
              "\n",
              "[1 rows x 6 columns]"
            ]
          },
          "metadata": {
            "tags": []
          },
          "execution_count": 9
        }
      ]
    },
    {
      "cell_type": "code",
      "metadata": {
        "colab": {
          "base_uri": "https://localhost:8080/",
          "height": 80
        },
        "id": "BbhgTSBGtTtJ",
        "outputId": "9f0c244c-834a-4b01-8d60-df278e60de56"
      },
      "source": [
        "# German for: 'Congress's newest polices made many people happy '\n",
        "fitted_pipe.predict(\"Die neue Politik des Kongresses machte viele Menschen glücklich \")\n"
      ],
      "execution_count": null,
      "outputs": [
        {
          "output_type": "execute_result",
          "data": {
            "text/html": [
              "<div>\n",
              "<style scoped>\n",
              "    .dataframe tbody tr th:only-of-type {\n",
              "        vertical-align: middle;\n",
              "    }\n",
              "\n",
              "    .dataframe tbody tr th {\n",
              "        vertical-align: top;\n",
              "    }\n",
              "\n",
              "    .dataframe thead th {\n",
              "        text-align: right;\n",
              "    }\n",
              "</style>\n",
              "<table border=\"1\" class=\"dataframe\">\n",
              "  <thead>\n",
              "    <tr style=\"text-align: right;\">\n",
              "      <th></th>\n",
              "      <th>trained_sentiment_confidence</th>\n",
              "      <th>document</th>\n",
              "      <th>origin_index</th>\n",
              "      <th>trained_sentiment</th>\n",
              "      <th>sentence</th>\n",
              "      <th>sentence_embedding_labse</th>\n",
              "    </tr>\n",
              "  </thead>\n",
              "  <tbody>\n",
              "    <tr>\n",
              "      <th>0</th>\n",
              "      <td>0.999974</td>\n",
              "      <td>Die neue Politik des Kongresses machte viele M...</td>\n",
              "      <td>0</td>\n",
              "      <td>positive</td>\n",
              "      <td>[Die neue Politik des Kongresses machte viele ...</td>\n",
              "      <td>[0.008141197264194489, -0.009829358197748661, ...</td>\n",
              "    </tr>\n",
              "  </tbody>\n",
              "</table>\n",
              "</div>"
            ],
            "text/plain": [
              "   trained_sentiment_confidence  ...                           sentence_embedding_labse\n",
              "0                      0.999974  ...  [0.008141197264194489, -0.009829358197748661, ...\n",
              "\n",
              "[1 rows x 6 columns]"
            ]
          },
          "metadata": {
            "tags": []
          },
          "execution_count": 10
        }
      ]
    },
    {
      "cell_type": "markdown",
      "metadata": {
        "id": "a1JbtmWquQwj"
      },
      "source": [
        "# The Model understands Chinese\n",
        "![zh](https://www.worldometers.info/img/flags/small/tn_ch-flag.gif)"
      ]
    },
    {
      "cell_type": "code",
      "metadata": {
        "colab": {
          "base_uri": "https://localhost:8080/",
          "height": 80
        },
        "id": "kYSYqtoRtc-P",
        "outputId": "45ea8add-578f-4c7a-bf50-f5649f2b3bbe"
      },
      "source": [
        "# Chinese for: 'Congress's newest polices made many people happy '\n",
        "fitted_pipe.predict(\"国会的新政策使许多人感到高兴 \")"
      ],
      "execution_count": null,
      "outputs": [
        {
          "output_type": "execute_result",
          "data": {
            "text/html": [
              "<div>\n",
              "<style scoped>\n",
              "    .dataframe tbody tr th:only-of-type {\n",
              "        vertical-align: middle;\n",
              "    }\n",
              "\n",
              "    .dataframe tbody tr th {\n",
              "        vertical-align: top;\n",
              "    }\n",
              "\n",
              "    .dataframe thead th {\n",
              "        text-align: right;\n",
              "    }\n",
              "</style>\n",
              "<table border=\"1\" class=\"dataframe\">\n",
              "  <thead>\n",
              "    <tr style=\"text-align: right;\">\n",
              "      <th></th>\n",
              "      <th>trained_sentiment_confidence</th>\n",
              "      <th>document</th>\n",
              "      <th>origin_index</th>\n",
              "      <th>trained_sentiment</th>\n",
              "      <th>sentence</th>\n",
              "      <th>sentence_embedding_labse</th>\n",
              "    </tr>\n",
              "  </thead>\n",
              "  <tbody>\n",
              "    <tr>\n",
              "      <th>0</th>\n",
              "      <td>0.999998</td>\n",
              "      <td>国会的新政策使许多人感到高兴</td>\n",
              "      <td>0</td>\n",
              "      <td>positive</td>\n",
              "      <td>[国会的新政策使许多人感到高兴]</td>\n",
              "      <td>[0.009464389644563198, -0.012016313150525093, ...</td>\n",
              "    </tr>\n",
              "  </tbody>\n",
              "</table>\n",
              "</div>"
            ],
            "text/plain": [
              "   trained_sentiment_confidence  ...                           sentence_embedding_labse\n",
              "0                      0.999998  ...  [0.009464389644563198, -0.012016313150525093, ...\n",
              "\n",
              "[1 rows x 6 columns]"
            ]
          },
          "metadata": {
            "tags": []
          },
          "execution_count": 11
        }
      ]
    },
    {
      "cell_type": "code",
      "metadata": {
        "colab": {
          "base_uri": "https://localhost:8080/",
          "height": 80
        },
        "id": "06v9SD-QtlBU",
        "outputId": "0e1f7d04-90d5-4765-a4d4-09d88e7ff62b"
      },
      "source": [
        "# Chinese for: 'Congress's newest polices made many people poor, sad and depressed '\n",
        "fitted_pipe.predict(\"国会的新政策使许多人变得贫穷，悲伤和沮丧 \")"
      ],
      "execution_count": null,
      "outputs": [
        {
          "output_type": "execute_result",
          "data": {
            "text/html": [
              "<div>\n",
              "<style scoped>\n",
              "    .dataframe tbody tr th:only-of-type {\n",
              "        vertical-align: middle;\n",
              "    }\n",
              "\n",
              "    .dataframe tbody tr th {\n",
              "        vertical-align: top;\n",
              "    }\n",
              "\n",
              "    .dataframe thead th {\n",
              "        text-align: right;\n",
              "    }\n",
              "</style>\n",
              "<table border=\"1\" class=\"dataframe\">\n",
              "  <thead>\n",
              "    <tr style=\"text-align: right;\">\n",
              "      <th></th>\n",
              "      <th>trained_sentiment_confidence</th>\n",
              "      <th>document</th>\n",
              "      <th>origin_index</th>\n",
              "      <th>trained_sentiment</th>\n",
              "      <th>sentence</th>\n",
              "      <th>sentence_embedding_labse</th>\n",
              "    </tr>\n",
              "  </thead>\n",
              "  <tbody>\n",
              "    <tr>\n",
              "      <th>0</th>\n",
              "      <td>0.998916</td>\n",
              "      <td>国会的新政策使许多人变得贫穷，悲伤和沮丧</td>\n",
              "      <td>0</td>\n",
              "      <td>negative</td>\n",
              "      <td>[国会的新政策使许多人变得贫穷，悲伤和沮丧]</td>\n",
              "      <td>[-0.05506608635187149, -0.002640362363308668, ...</td>\n",
              "    </tr>\n",
              "  </tbody>\n",
              "</table>\n",
              "</div>"
            ],
            "text/plain": [
              "   trained_sentiment_confidence  ...                           sentence_embedding_labse\n",
              "0                      0.998916  ...  [-0.05506608635187149, -0.002640362363308668, ...\n",
              "\n",
              "[1 rows x 6 columns]"
            ]
          },
          "metadata": {
            "tags": []
          },
          "execution_count": 12
        }
      ]
    },
    {
      "cell_type": "markdown",
      "metadata": {
        "id": "9h7CvN4uu9Pb"
      },
      "source": [
        "# Model understands Afrikaans\n",
        "\n",
        "![af](https://www.worldometers.info/img/flags/small/tn_sf-flag.gif)\n",
        "\n"
      ]
    },
    {
      "cell_type": "code",
      "metadata": {
        "colab": {
          "base_uri": "https://localhost:8080/",
          "height": 80
        },
        "id": "VMPhbgw9twtf",
        "outputId": "54ce4a9a-52dc-477c-8195-3fb28a321074"
      },
      "source": [
        "#  Afrikaans for: 'Congress's newest polices made many people poor, sad and depressed '\n",
        "fitted_pipe.predict(\"Die Kongres se nuwe beleid het baie mense arm, hartseer en depressief gemaak \")"
      ],
      "execution_count": null,
      "outputs": [
        {
          "output_type": "execute_result",
          "data": {
            "text/html": [
              "<div>\n",
              "<style scoped>\n",
              "    .dataframe tbody tr th:only-of-type {\n",
              "        vertical-align: middle;\n",
              "    }\n",
              "\n",
              "    .dataframe tbody tr th {\n",
              "        vertical-align: top;\n",
              "    }\n",
              "\n",
              "    .dataframe thead th {\n",
              "        text-align: right;\n",
              "    }\n",
              "</style>\n",
              "<table border=\"1\" class=\"dataframe\">\n",
              "  <thead>\n",
              "    <tr style=\"text-align: right;\">\n",
              "      <th></th>\n",
              "      <th>trained_sentiment_confidence</th>\n",
              "      <th>document</th>\n",
              "      <th>origin_index</th>\n",
              "      <th>trained_sentiment</th>\n",
              "      <th>sentence</th>\n",
              "      <th>sentence_embedding_labse</th>\n",
              "    </tr>\n",
              "  </thead>\n",
              "  <tbody>\n",
              "    <tr>\n",
              "      <th>0</th>\n",
              "      <td>0.720446</td>\n",
              "      <td>Die Kongres se nuwe beleid het baie mense arm,...</td>\n",
              "      <td>0</td>\n",
              "      <td>negative</td>\n",
              "      <td>[Die Kongres se nuwe beleid het baie mense arm...</td>\n",
              "      <td>[-0.023684442043304443, 0.0034083062782883644,...</td>\n",
              "    </tr>\n",
              "  </tbody>\n",
              "</table>\n",
              "</div>"
            ],
            "text/plain": [
              "   trained_sentiment_confidence  ...                           sentence_embedding_labse\n",
              "0                      0.720446  ...  [-0.023684442043304443, 0.0034083062782883644,...\n",
              "\n",
              "[1 rows x 6 columns]"
            ]
          },
          "metadata": {
            "tags": []
          },
          "execution_count": 13
        }
      ]
    },
    {
      "cell_type": "code",
      "metadata": {
        "colab": {
          "base_uri": "https://localhost:8080/",
          "height": 80
        },
        "id": "zWgNTIdkumhX",
        "outputId": "7f7ccf28-2d4d-487d-9205-1c469d23275b"
      },
      "source": [
        "#  Afrikaans for: 'Congress's newest polices made many people happy '\n",
        "fitted_pipe.predict(\"Die Kongres se nuwe beleid het baie mense gelukkig gemaak \")"
      ],
      "execution_count": null,
      "outputs": [
        {
          "output_type": "execute_result",
          "data": {
            "text/html": [
              "<div>\n",
              "<style scoped>\n",
              "    .dataframe tbody tr th:only-of-type {\n",
              "        vertical-align: middle;\n",
              "    }\n",
              "\n",
              "    .dataframe tbody tr th {\n",
              "        vertical-align: top;\n",
              "    }\n",
              "\n",
              "    .dataframe thead th {\n",
              "        text-align: right;\n",
              "    }\n",
              "</style>\n",
              "<table border=\"1\" class=\"dataframe\">\n",
              "  <thead>\n",
              "    <tr style=\"text-align: right;\">\n",
              "      <th></th>\n",
              "      <th>trained_sentiment_confidence</th>\n",
              "      <th>document</th>\n",
              "      <th>origin_index</th>\n",
              "      <th>trained_sentiment</th>\n",
              "      <th>sentence</th>\n",
              "      <th>sentence_embedding_labse</th>\n",
              "    </tr>\n",
              "  </thead>\n",
              "  <tbody>\n",
              "    <tr>\n",
              "      <th>0</th>\n",
              "      <td>0.999999</td>\n",
              "      <td>Die Kongres se nuwe beleid het baie mense gelu...</td>\n",
              "      <td>0</td>\n",
              "      <td>positive</td>\n",
              "      <td>[Die Kongres se nuwe beleid het baie mense gel...</td>\n",
              "      <td>[0.005836560856550932, -0.02982638217508793, -...</td>\n",
              "    </tr>\n",
              "  </tbody>\n",
              "</table>\n",
              "</div>"
            ],
            "text/plain": [
              "   trained_sentiment_confidence  ...                           sentence_embedding_labse\n",
              "0                      0.999999  ...  [0.005836560856550932, -0.02982638217508793, -...\n",
              "\n",
              "[1 rows x 6 columns]"
            ]
          },
          "metadata": {
            "tags": []
          },
          "execution_count": 14
        }
      ]
    },
    {
      "cell_type": "markdown",
      "metadata": {
        "id": "IlkmAaMoxTuy"
      },
      "source": [
        "# The model understands Japanese\n",
        "![ja](https://www.worldometers.info/img/flags/small/tn_ja-flag.gif)\n"
      ]
    },
    {
      "cell_type": "code",
      "metadata": {
        "colab": {
          "base_uri": "https://localhost:8080/",
          "height": 97
        },
        "id": "1IfJu3q8wwUt",
        "outputId": "e1be5a26-606f-4bda-8494-ce0f58aabf14"
      },
      "source": [
        "# Japanese for: 'Congress's newest polices made many people poor, sad and depressed '\n",
        "fitted_pipe.predict(\"議会の新しい政策は多くの人々を貧しく、悲しくそして落ち込んだものにしました \")"
      ],
      "execution_count": null,
      "outputs": [
        {
          "output_type": "execute_result",
          "data": {
            "text/html": [
              "<div>\n",
              "<style scoped>\n",
              "    .dataframe tbody tr th:only-of-type {\n",
              "        vertical-align: middle;\n",
              "    }\n",
              "\n",
              "    .dataframe tbody tr th {\n",
              "        vertical-align: top;\n",
              "    }\n",
              "\n",
              "    .dataframe thead th {\n",
              "        text-align: right;\n",
              "    }\n",
              "</style>\n",
              "<table border=\"1\" class=\"dataframe\">\n",
              "  <thead>\n",
              "    <tr style=\"text-align: right;\">\n",
              "      <th></th>\n",
              "      <th>trained_sentiment_confidence</th>\n",
              "      <th>document</th>\n",
              "      <th>origin_index</th>\n",
              "      <th>trained_sentiment</th>\n",
              "      <th>sentence</th>\n",
              "      <th>sentence_embedding_labse</th>\n",
              "    </tr>\n",
              "  </thead>\n",
              "  <tbody>\n",
              "    <tr>\n",
              "      <th>0</th>\n",
              "      <td>0.993153</td>\n",
              "      <td>議会の新しい政策は多くの人々を貧しく、悲しくそして落ち込んだものにしました</td>\n",
              "      <td>0</td>\n",
              "      <td>negative</td>\n",
              "      <td>[議会の新しい政策は多くの人々を貧しく、悲しくそして落ち込んだものにしました]</td>\n",
              "      <td>[-0.04006955772638321, 0.0033476136159151793, ...</td>\n",
              "    </tr>\n",
              "  </tbody>\n",
              "</table>\n",
              "</div>"
            ],
            "text/plain": [
              "   trained_sentiment_confidence  ...                           sentence_embedding_labse\n",
              "0                      0.993153  ...  [-0.04006955772638321, 0.0033476136159151793, ...\n",
              "\n",
              "[1 rows x 6 columns]"
            ]
          },
          "metadata": {
            "tags": []
          },
          "execution_count": 15
        }
      ]
    },
    {
      "cell_type": "code",
      "metadata": {
        "colab": {
          "base_uri": "https://localhost:8080/",
          "height": 80
        },
        "id": "h3k7_PFhxOve",
        "outputId": "76551d94-8d73-4904-9636-e1495852e33d"
      },
      "source": [
        "\n",
        "\t\t\n",
        "# Japanese for: 'Congress's newest polices made many people happy '\n",
        "fitted_pipe.predict(\"議会の新しい政策は多くの人々を幸せにしました \")"
      ],
      "execution_count": null,
      "outputs": [
        {
          "output_type": "execute_result",
          "data": {
            "text/html": [
              "<div>\n",
              "<style scoped>\n",
              "    .dataframe tbody tr th:only-of-type {\n",
              "        vertical-align: middle;\n",
              "    }\n",
              "\n",
              "    .dataframe tbody tr th {\n",
              "        vertical-align: top;\n",
              "    }\n",
              "\n",
              "    .dataframe thead th {\n",
              "        text-align: right;\n",
              "    }\n",
              "</style>\n",
              "<table border=\"1\" class=\"dataframe\">\n",
              "  <thead>\n",
              "    <tr style=\"text-align: right;\">\n",
              "      <th></th>\n",
              "      <th>trained_sentiment_confidence</th>\n",
              "      <th>document</th>\n",
              "      <th>origin_index</th>\n",
              "      <th>trained_sentiment</th>\n",
              "      <th>sentence</th>\n",
              "      <th>sentence_embedding_labse</th>\n",
              "    </tr>\n",
              "  </thead>\n",
              "  <tbody>\n",
              "    <tr>\n",
              "      <th>0</th>\n",
              "      <td>0.999996</td>\n",
              "      <td>議会の新しい政策は多くの人々を幸せにしました</td>\n",
              "      <td>0</td>\n",
              "      <td>positive</td>\n",
              "      <td>[議会の新しい政策は多くの人々を幸せにしました]</td>\n",
              "      <td>[-0.017957264557480812, -0.015919487923383713,...</td>\n",
              "    </tr>\n",
              "  </tbody>\n",
              "</table>\n",
              "</div>"
            ],
            "text/plain": [
              "   trained_sentiment_confidence  ...                           sentence_embedding_labse\n",
              "0                      0.999996  ...  [-0.017957264557480812, -0.015919487923383713,...\n",
              "\n",
              "[1 rows x 6 columns]"
            ]
          },
          "metadata": {
            "tags": []
          },
          "execution_count": 16
        }
      ]
    },
    {
      "cell_type": "markdown",
      "metadata": {
        "id": "VGVvzl_30a0T"
      },
      "source": [
        "# The  Model understands Turkish\n",
        "![tr](https://www.worldometers.info/img/flags/small/tn_tu-flag.gif)"
      ]
    },
    {
      "cell_type": "code",
      "metadata": {
        "colab": {
          "base_uri": "https://localhost:8080/",
          "height": 80
        },
        "id": "DRNnuEeQz2pd",
        "outputId": "515337da-dcec-4345-f112-cd35e644c79e"
      },
      "source": [
        "#  Turkish for: 'Congress's newest polices made many people poor, sad and depressed '\n",
        "fitted_pipe.predict(\"Kongrenin yeni politikaları birçok insanı fakir, hüzünlü ve depresif hale getirdi \")"
      ],
      "execution_count": null,
      "outputs": [
        {
          "output_type": "execute_result",
          "data": {
            "text/html": [
              "<div>\n",
              "<style scoped>\n",
              "    .dataframe tbody tr th:only-of-type {\n",
              "        vertical-align: middle;\n",
              "    }\n",
              "\n",
              "    .dataframe tbody tr th {\n",
              "        vertical-align: top;\n",
              "    }\n",
              "\n",
              "    .dataframe thead th {\n",
              "        text-align: right;\n",
              "    }\n",
              "</style>\n",
              "<table border=\"1\" class=\"dataframe\">\n",
              "  <thead>\n",
              "    <tr style=\"text-align: right;\">\n",
              "      <th></th>\n",
              "      <th>trained_sentiment_confidence</th>\n",
              "      <th>document</th>\n",
              "      <th>origin_index</th>\n",
              "      <th>trained_sentiment</th>\n",
              "      <th>sentence</th>\n",
              "      <th>sentence_embedding_labse</th>\n",
              "    </tr>\n",
              "  </thead>\n",
              "  <tbody>\n",
              "    <tr>\n",
              "      <th>0</th>\n",
              "      <td>0.995125</td>\n",
              "      <td>Kongrenin yeni politikaları birçok insanı faki...</td>\n",
              "      <td>0</td>\n",
              "      <td>negative</td>\n",
              "      <td>[Kongrenin yeni politikaları birçok insanı fak...</td>\n",
              "      <td>[-0.02755207195878029, 0.012688503600656986, -...</td>\n",
              "    </tr>\n",
              "  </tbody>\n",
              "</table>\n",
              "</div>"
            ],
            "text/plain": [
              "   trained_sentiment_confidence  ...                           sentence_embedding_labse\n",
              "0                      0.995125  ...  [-0.02755207195878029, 0.012688503600656986, -...\n",
              "\n",
              "[1 rows x 6 columns]"
            ]
          },
          "metadata": {
            "tags": []
          },
          "execution_count": 17
        }
      ]
    },
    {
      "cell_type": "code",
      "metadata": {
        "colab": {
          "base_uri": "https://localhost:8080/",
          "height": 80
        },
        "id": "aOSsiK6J0jWs",
        "outputId": "45f525b8-617b-4469-d61e-df03469b8734"
      },
      "source": [
        "#  Turkish for: 'Congress's newest polices made many people happy '\n",
        "fitted_pipe.predict(\"Kongrenin yeni politikaları birçok insanı mutlu etti \")"
      ],
      "execution_count": null,
      "outputs": [
        {
          "output_type": "execute_result",
          "data": {
            "text/html": [
              "<div>\n",
              "<style scoped>\n",
              "    .dataframe tbody tr th:only-of-type {\n",
              "        vertical-align: middle;\n",
              "    }\n",
              "\n",
              "    .dataframe tbody tr th {\n",
              "        vertical-align: top;\n",
              "    }\n",
              "\n",
              "    .dataframe thead th {\n",
              "        text-align: right;\n",
              "    }\n",
              "</style>\n",
              "<table border=\"1\" class=\"dataframe\">\n",
              "  <thead>\n",
              "    <tr style=\"text-align: right;\">\n",
              "      <th></th>\n",
              "      <th>trained_sentiment_confidence</th>\n",
              "      <th>document</th>\n",
              "      <th>origin_index</th>\n",
              "      <th>trained_sentiment</th>\n",
              "      <th>sentence</th>\n",
              "      <th>sentence_embedding_labse</th>\n",
              "    </tr>\n",
              "  </thead>\n",
              "  <tbody>\n",
              "    <tr>\n",
              "      <th>0</th>\n",
              "      <td>0.999997</td>\n",
              "      <td>Kongrenin yeni politikaları birçok insanı mutl...</td>\n",
              "      <td>0</td>\n",
              "      <td>positive</td>\n",
              "      <td>[Kongrenin yeni politikaları birçok insanı mut...</td>\n",
              "      <td>[0.019367843866348267, -0.0063224597834050655,...</td>\n",
              "    </tr>\n",
              "  </tbody>\n",
              "</table>\n",
              "</div>"
            ],
            "text/plain": [
              "   trained_sentiment_confidence  ...                           sentence_embedding_labse\n",
              "0                      0.999997  ...  [0.019367843866348267, -0.0063224597834050655,...\n",
              "\n",
              "[1 rows x 6 columns]"
            ]
          },
          "metadata": {
            "tags": []
          },
          "execution_count": 18
        }
      ]
    },
    {
      "cell_type": "markdown",
      "metadata": {
        "id": "803qL2gt0vlb"
      },
      "source": [
        "#  The Model understands Hebrew\n",
        "![he](https://www.worldometers.info/img/flags/small/tn_sf-flag.gif)"
      ]
    },
    {
      "cell_type": "code",
      "metadata": {
        "colab": {
          "base_uri": "https://localhost:8080/",
          "height": 80
        },
        "id": "XQ5VCtxw0pc0",
        "outputId": "e9a8ce71-dbad-46b6-e556-f51b2c7ef208"
      },
      "source": [
        "# Hebrew for: 'Congress's newest polices made many people poor, sad and depressed '\n",
        "fitted_pipe.predict(\"המדיניות החדשה של הקונגרס גרמה לאנשים רבים להיות עניים, עצובים ומדוכאים \")"
      ],
      "execution_count": null,
      "outputs": [
        {
          "output_type": "execute_result",
          "data": {
            "text/html": [
              "<div>\n",
              "<style scoped>\n",
              "    .dataframe tbody tr th:only-of-type {\n",
              "        vertical-align: middle;\n",
              "    }\n",
              "\n",
              "    .dataframe tbody tr th {\n",
              "        vertical-align: top;\n",
              "    }\n",
              "\n",
              "    .dataframe thead th {\n",
              "        text-align: right;\n",
              "    }\n",
              "</style>\n",
              "<table border=\"1\" class=\"dataframe\">\n",
              "  <thead>\n",
              "    <tr style=\"text-align: right;\">\n",
              "      <th></th>\n",
              "      <th>trained_sentiment_confidence</th>\n",
              "      <th>document</th>\n",
              "      <th>origin_index</th>\n",
              "      <th>trained_sentiment</th>\n",
              "      <th>sentence</th>\n",
              "      <th>sentence_embedding_labse</th>\n",
              "    </tr>\n",
              "  </thead>\n",
              "  <tbody>\n",
              "    <tr>\n",
              "      <th>0</th>\n",
              "      <td>0.994727</td>\n",
              "      <td>המדיניות החדשה של הקונגרס גרמה לאנשים רבים להי...</td>\n",
              "      <td>0</td>\n",
              "      <td>negative</td>\n",
              "      <td>[המדיניות החדשה של הקונגרס גרמה לאנשים רבים לה...</td>\n",
              "      <td>[-0.03273192420601845, -0.016592275351285934, ...</td>\n",
              "    </tr>\n",
              "  </tbody>\n",
              "</table>\n",
              "</div>"
            ],
            "text/plain": [
              "   trained_sentiment_confidence  ...                           sentence_embedding_labse\n",
              "0                      0.994727  ...  [-0.03273192420601845, -0.016592275351285934, ...\n",
              "\n",
              "[1 rows x 6 columns]"
            ]
          },
          "metadata": {
            "tags": []
          },
          "execution_count": 19
        }
      ]
    },
    {
      "cell_type": "code",
      "metadata": {
        "colab": {
          "base_uri": "https://localhost:8080/",
          "height": 80
        },
        "id": "9w2ZHfns05A4",
        "outputId": "cb13aabf-b93c-4fa1-e729-af42f241366b"
      },
      "source": [
        "# Hebrew for: 'Congress's newest polices made many people happy '\n",
        "fitted_pipe.predict(\"המדיניות החדשה של הקונגרס שימחה אנשים רבים \")\n",
        "\t\t"
      ],
      "execution_count": null,
      "outputs": [
        {
          "output_type": "execute_result",
          "data": {
            "text/html": [
              "<div>\n",
              "<style scoped>\n",
              "    .dataframe tbody tr th:only-of-type {\n",
              "        vertical-align: middle;\n",
              "    }\n",
              "\n",
              "    .dataframe tbody tr th {\n",
              "        vertical-align: top;\n",
              "    }\n",
              "\n",
              "    .dataframe thead th {\n",
              "        text-align: right;\n",
              "    }\n",
              "</style>\n",
              "<table border=\"1\" class=\"dataframe\">\n",
              "  <thead>\n",
              "    <tr style=\"text-align: right;\">\n",
              "      <th></th>\n",
              "      <th>trained_sentiment_confidence</th>\n",
              "      <th>document</th>\n",
              "      <th>origin_index</th>\n",
              "      <th>trained_sentiment</th>\n",
              "      <th>sentence</th>\n",
              "      <th>sentence_embedding_labse</th>\n",
              "    </tr>\n",
              "  </thead>\n",
              "  <tbody>\n",
              "    <tr>\n",
              "      <th>0</th>\n",
              "      <td>0.999977</td>\n",
              "      <td>המדיניות החדשה של הקונגרס שימחה אנשים רבים</td>\n",
              "      <td>0</td>\n",
              "      <td>positive</td>\n",
              "      <td>[המדיניות החדשה של הקונגרס שימחה אנשים רבים]</td>\n",
              "      <td>[0.0014839837094768882, -0.01997891254723072, ...</td>\n",
              "    </tr>\n",
              "  </tbody>\n",
              "</table>\n",
              "</div>"
            ],
            "text/plain": [
              "   trained_sentiment_confidence  ...                           sentence_embedding_labse\n",
              "0                      0.999977  ...  [0.0014839837094768882, -0.01997891254723072, ...\n",
              "\n",
              "[1 rows x 6 columns]"
            ]
          },
          "metadata": {
            "tags": []
          },
          "execution_count": 20
        }
      ]
    },
    {
      "cell_type": "markdown",
      "metadata": {
        "id": "SDlpd33H1HIX"
      },
      "source": [
        "# The Model understands Telugu\n",
        "![te](https://www.worldometers.info/img/flags/small/tn_in-flag.gif)\n"
      ]
    },
    {
      "cell_type": "code",
      "metadata": {
        "colab": {
          "base_uri": "https://localhost:8080/",
          "height": 80
        },
        "id": "Kc5n1bzv1BJT",
        "outputId": "3a47d3cd-1748-4725-d6b2-329c6b3b8664"
      },
      "source": [
        "# Telugu for: 'Congress's newest polices made many people poor, sad and depressed '\n",
        "fitted_pipe.predict(\"కాంగ్రెస్ కొత్త విధానాలు చాలా మందిని పేదలుగా, విచారంగా, నిరాశకు గురి చేశాయి \")"
      ],
      "execution_count": null,
      "outputs": [
        {
          "output_type": "execute_result",
          "data": {
            "text/html": [
              "<div>\n",
              "<style scoped>\n",
              "    .dataframe tbody tr th:only-of-type {\n",
              "        vertical-align: middle;\n",
              "    }\n",
              "\n",
              "    .dataframe tbody tr th {\n",
              "        vertical-align: top;\n",
              "    }\n",
              "\n",
              "    .dataframe thead th {\n",
              "        text-align: right;\n",
              "    }\n",
              "</style>\n",
              "<table border=\"1\" class=\"dataframe\">\n",
              "  <thead>\n",
              "    <tr style=\"text-align: right;\">\n",
              "      <th></th>\n",
              "      <th>trained_sentiment_confidence</th>\n",
              "      <th>document</th>\n",
              "      <th>origin_index</th>\n",
              "      <th>trained_sentiment</th>\n",
              "      <th>sentence</th>\n",
              "      <th>sentence_embedding_labse</th>\n",
              "    </tr>\n",
              "  </thead>\n",
              "  <tbody>\n",
              "    <tr>\n",
              "      <th>0</th>\n",
              "      <td>0.994245</td>\n",
              "      <td>కాంగ్రెస్ కొత్త విధానాలు చాలా మందిని పేదలుగా, ...</td>\n",
              "      <td>0</td>\n",
              "      <td>negative</td>\n",
              "      <td>[కాంగ్రెస్ కొత్త విధానాలు చాలా మందిని పేదలుగా,...</td>\n",
              "      <td>[-0.02907465025782585, -0.02225475199520588, -...</td>\n",
              "    </tr>\n",
              "  </tbody>\n",
              "</table>\n",
              "</div>"
            ],
            "text/plain": [
              "   trained_sentiment_confidence  ...                           sentence_embedding_labse\n",
              "0                      0.994245  ...  [-0.02907465025782585, -0.02225475199520588, -...\n",
              "\n",
              "[1 rows x 6 columns]"
            ]
          },
          "metadata": {
            "tags": []
          },
          "execution_count": 21
        }
      ]
    },
    {
      "cell_type": "code",
      "metadata": {
        "colab": {
          "base_uri": "https://localhost:8080/",
          "height": 80
        },
        "id": "-l-u6vrz1Obe",
        "outputId": "24fcaacc-949f-4243-d9ba-02537d895c71"
      },
      "source": [
        "# Telugu for: 'Congress's newest polices made many people happy '\n",
        "fitted_pipe.predict(\"కాంగ్రెస్ కొత్త విధానాలు చాలా మందికి సంతోషాన్నిచ్చాయి \")"
      ],
      "execution_count": null,
      "outputs": [
        {
          "output_type": "execute_result",
          "data": {
            "text/html": [
              "<div>\n",
              "<style scoped>\n",
              "    .dataframe tbody tr th:only-of-type {\n",
              "        vertical-align: middle;\n",
              "    }\n",
              "\n",
              "    .dataframe tbody tr th {\n",
              "        vertical-align: top;\n",
              "    }\n",
              "\n",
              "    .dataframe thead th {\n",
              "        text-align: right;\n",
              "    }\n",
              "</style>\n",
              "<table border=\"1\" class=\"dataframe\">\n",
              "  <thead>\n",
              "    <tr style=\"text-align: right;\">\n",
              "      <th></th>\n",
              "      <th>trained_sentiment_confidence</th>\n",
              "      <th>document</th>\n",
              "      <th>origin_index</th>\n",
              "      <th>trained_sentiment</th>\n",
              "      <th>sentence</th>\n",
              "      <th>sentence_embedding_labse</th>\n",
              "    </tr>\n",
              "  </thead>\n",
              "  <tbody>\n",
              "    <tr>\n",
              "      <th>0</th>\n",
              "      <td>1.0</td>\n",
              "      <td>కాంగ్రెస్ కొత్త విధానాలు చాలా మందికి సంతోషాన్న...</td>\n",
              "      <td>0</td>\n",
              "      <td>positive</td>\n",
              "      <td>[కాంగ్రెస్ కొత్త విధానాలు చాలా మందికి సంతోషాన్...</td>\n",
              "      <td>[0.003831395646557212, -0.034895412623882294, ...</td>\n",
              "    </tr>\n",
              "  </tbody>\n",
              "</table>\n",
              "</div>"
            ],
            "text/plain": [
              "   trained_sentiment_confidence  ...                           sentence_embedding_labse\n",
              "0                           1.0  ...  [0.003831395646557212, -0.034895412623882294, ...\n",
              "\n",
              "[1 rows x 6 columns]"
            ]
          },
          "metadata": {
            "tags": []
          },
          "execution_count": 22
        }
      ]
    },
    {
      "cell_type": "markdown",
      "metadata": {
        "id": "nziBUe8t1Zwn"
      },
      "source": [
        "# Model understands Russian\n",
        "![ru](https://www.worldometers.info/img/flags/small/tn_rs-flag.gif)\n"
      ]
    },
    {
      "cell_type": "code",
      "metadata": {
        "colab": {
          "base_uri": "https://localhost:8080/",
          "height": 80
        },
        "id": "Ckyjl3YQ1VFn",
        "outputId": "45003fc1-6c5e-4ca2-9ffa-762379c6e612"
      },
      "source": [
        "#  Russian for: 'Congress's newest polices made many people poor, sad and depressed '\n",
        "fitted_pipe.predict(\"Новая политика Конгресса сделала многих людей бедными, грустными и подавленными \")"
      ],
      "execution_count": null,
      "outputs": [
        {
          "output_type": "execute_result",
          "data": {
            "text/html": [
              "<div>\n",
              "<style scoped>\n",
              "    .dataframe tbody tr th:only-of-type {\n",
              "        vertical-align: middle;\n",
              "    }\n",
              "\n",
              "    .dataframe tbody tr th {\n",
              "        vertical-align: top;\n",
              "    }\n",
              "\n",
              "    .dataframe thead th {\n",
              "        text-align: right;\n",
              "    }\n",
              "</style>\n",
              "<table border=\"1\" class=\"dataframe\">\n",
              "  <thead>\n",
              "    <tr style=\"text-align: right;\">\n",
              "      <th></th>\n",
              "      <th>trained_sentiment_confidence</th>\n",
              "      <th>document</th>\n",
              "      <th>origin_index</th>\n",
              "      <th>trained_sentiment</th>\n",
              "      <th>sentence</th>\n",
              "      <th>sentence_embedding_labse</th>\n",
              "    </tr>\n",
              "  </thead>\n",
              "  <tbody>\n",
              "    <tr>\n",
              "      <th>0</th>\n",
              "      <td>0.997476</td>\n",
              "      <td>Новая политика Конгресса сделала многих людей ...</td>\n",
              "      <td>0</td>\n",
              "      <td>negative</td>\n",
              "      <td>[Новая политика Конгресса сделала многих людей...</td>\n",
              "      <td>[-0.029941784217953682, 0.016272399574518204, ...</td>\n",
              "    </tr>\n",
              "  </tbody>\n",
              "</table>\n",
              "</div>"
            ],
            "text/plain": [
              "   trained_sentiment_confidence  ...                           sentence_embedding_labse\n",
              "0                      0.997476  ...  [-0.029941784217953682, 0.016272399574518204, ...\n",
              "\n",
              "[1 rows x 6 columns]"
            ]
          },
          "metadata": {
            "tags": []
          },
          "execution_count": 23
        }
      ]
    },
    {
      "cell_type": "code",
      "metadata": {
        "colab": {
          "base_uri": "https://localhost:8080/",
          "height": 80
        },
        "id": "GIdWkfGv1gFz",
        "outputId": "ab04d8b1-3682-4a20-87bb-e0cb1ff12446"
      },
      "source": [
        "\n",
        "\t\t\n",
        "#  Russian for: 'Congress's newest polices made many people happy '\n",
        "fitted_pipe.predict(\"Новая политика Конгресса порадовала многих людей \")"
      ],
      "execution_count": null,
      "outputs": [
        {
          "output_type": "execute_result",
          "data": {
            "text/html": [
              "<div>\n",
              "<style scoped>\n",
              "    .dataframe tbody tr th:only-of-type {\n",
              "        vertical-align: middle;\n",
              "    }\n",
              "\n",
              "    .dataframe tbody tr th {\n",
              "        vertical-align: top;\n",
              "    }\n",
              "\n",
              "    .dataframe thead th {\n",
              "        text-align: right;\n",
              "    }\n",
              "</style>\n",
              "<table border=\"1\" class=\"dataframe\">\n",
              "  <thead>\n",
              "    <tr style=\"text-align: right;\">\n",
              "      <th></th>\n",
              "      <th>trained_sentiment_confidence</th>\n",
              "      <th>document</th>\n",
              "      <th>origin_index</th>\n",
              "      <th>trained_sentiment</th>\n",
              "      <th>sentence</th>\n",
              "      <th>sentence_embedding_labse</th>\n",
              "    </tr>\n",
              "  </thead>\n",
              "  <tbody>\n",
              "    <tr>\n",
              "      <th>0</th>\n",
              "      <td>0.999979</td>\n",
              "      <td>Новая политика Конгресса порадовала многих людей</td>\n",
              "      <td>0</td>\n",
              "      <td>positive</td>\n",
              "      <td>[Новая политика Конгресса порадовала многих лю...</td>\n",
              "      <td>[-0.002074694959446788, 0.014204198494553566, ...</td>\n",
              "    </tr>\n",
              "  </tbody>\n",
              "</table>\n",
              "</div>"
            ],
            "text/plain": [
              "   trained_sentiment_confidence  ...                           sentence_embedding_labse\n",
              "0                      0.999979  ...  [-0.002074694959446788, 0.014204198494553566, ...\n",
              "\n",
              "[1 rows x 6 columns]"
            ]
          },
          "metadata": {
            "tags": []
          },
          "execution_count": 24
        }
      ]
    },
    {
      "cell_type": "markdown",
      "metadata": {
        "id": "8R1j9mwz2Cm4"
      },
      "source": [
        "# Model understands Urdu\n",
        "![ur](https://www.worldometers.info/img/flags/small/tn_pk-flag.gif)"
      ]
    },
    {
      "cell_type": "code",
      "metadata": {
        "colab": {
          "base_uri": "https://localhost:8080/",
          "height": 80
        },
        "id": "j4zwvRV11pcG",
        "outputId": "9e08445b-75e1-4d68-b34b-98a6c90d7201"
      },
      "source": [
        "\n",
        "\t\t\n",
        "# Urdu for: 'Congress's newest polices made many people poor, sad and depressed '\n",
        "fitted_pipe.predict(\"کانگریس کی نئی پالیسیوں نے بہت سارے لوگوں کو غریب ، افسردہ اور افسردہ کردیا \")"
      ],
      "execution_count": null,
      "outputs": [
        {
          "output_type": "execute_result",
          "data": {
            "text/html": [
              "<div>\n",
              "<style scoped>\n",
              "    .dataframe tbody tr th:only-of-type {\n",
              "        vertical-align: middle;\n",
              "    }\n",
              "\n",
              "    .dataframe tbody tr th {\n",
              "        vertical-align: top;\n",
              "    }\n",
              "\n",
              "    .dataframe thead th {\n",
              "        text-align: right;\n",
              "    }\n",
              "</style>\n",
              "<table border=\"1\" class=\"dataframe\">\n",
              "  <thead>\n",
              "    <tr style=\"text-align: right;\">\n",
              "      <th></th>\n",
              "      <th>trained_sentiment_confidence</th>\n",
              "      <th>document</th>\n",
              "      <th>origin_index</th>\n",
              "      <th>trained_sentiment</th>\n",
              "      <th>sentence</th>\n",
              "      <th>sentence_embedding_labse</th>\n",
              "    </tr>\n",
              "  </thead>\n",
              "  <tbody>\n",
              "    <tr>\n",
              "      <th>0</th>\n",
              "      <td>0.999625</td>\n",
              "      <td>کانگریس کی نئی پالیسیوں نے بہت سارے لوگوں کو غ...</td>\n",
              "      <td>0</td>\n",
              "      <td>negative</td>\n",
              "      <td>[کانگریس کی نئی پالیسیوں نے بہت سارے لوگوں کو ...</td>\n",
              "      <td>[-0.032778408378362656, -0.01915016397833824, ...</td>\n",
              "    </tr>\n",
              "  </tbody>\n",
              "</table>\n",
              "</div>"
            ],
            "text/plain": [
              "   trained_sentiment_confidence  ...                           sentence_embedding_labse\n",
              "0                      0.999625  ...  [-0.032778408378362656, -0.01915016397833824, ...\n",
              "\n",
              "[1 rows x 6 columns]"
            ]
          },
          "metadata": {
            "tags": []
          },
          "execution_count": 25
        }
      ]
    },
    {
      "cell_type": "code",
      "metadata": {
        "colab": {
          "base_uri": "https://localhost:8080/",
          "height": 80
        },
        "id": "SxzTuK4b2UKV",
        "outputId": "cb327854-4b6d-4179-964b-db657342db20"
      },
      "source": [
        "# Urdu for: 'Congress's newest polices made many people happy '\n",
        "fitted_pipe.predict(\"کانگریس کی نئی پالیسیوں نے بہت سارے لوگوں کو خوش کیا \")\n",
        "\t\t"
      ],
      "execution_count": null,
      "outputs": [
        {
          "output_type": "execute_result",
          "data": {
            "text/html": [
              "<div>\n",
              "<style scoped>\n",
              "    .dataframe tbody tr th:only-of-type {\n",
              "        vertical-align: middle;\n",
              "    }\n",
              "\n",
              "    .dataframe tbody tr th {\n",
              "        vertical-align: top;\n",
              "    }\n",
              "\n",
              "    .dataframe thead th {\n",
              "        text-align: right;\n",
              "    }\n",
              "</style>\n",
              "<table border=\"1\" class=\"dataframe\">\n",
              "  <thead>\n",
              "    <tr style=\"text-align: right;\">\n",
              "      <th></th>\n",
              "      <th>trained_sentiment_confidence</th>\n",
              "      <th>document</th>\n",
              "      <th>origin_index</th>\n",
              "      <th>trained_sentiment</th>\n",
              "      <th>sentence</th>\n",
              "      <th>sentence_embedding_labse</th>\n",
              "    </tr>\n",
              "  </thead>\n",
              "  <tbody>\n",
              "    <tr>\n",
              "      <th>0</th>\n",
              "      <td>0.995908</td>\n",
              "      <td>کانگریس کی نئی پالیسیوں نے بہت سارے لوگوں کو خ...</td>\n",
              "      <td>0</td>\n",
              "      <td>positive</td>\n",
              "      <td>[کانگریس کی نئی پالیسیوں نے بہت سارے لوگوں کو ...</td>\n",
              "      <td>[0.0033543300814926624, -0.0338786281645298, -...</td>\n",
              "    </tr>\n",
              "  </tbody>\n",
              "</table>\n",
              "</div>"
            ],
            "text/plain": [
              "   trained_sentiment_confidence  ...                           sentence_embedding_labse\n",
              "0                      0.995908  ...  [0.0033543300814926624, -0.0338786281645298, -...\n",
              "\n",
              "[1 rows x 6 columns]"
            ]
          },
          "metadata": {
            "tags": []
          },
          "execution_count": 26
        }
      ]
    },
    {
      "cell_type": "markdown",
      "metadata": {
        "id": "RoNg-C3k1qcX"
      },
      "source": [
        "# Model understands Hindi\n",
        "![hi](https://www.worldometers.info/img/flags/small/tn_in-flag.gif)\n"
      ]
    },
    {
      "cell_type": "code",
      "metadata": {
        "colab": {
          "base_uri": "https://localhost:8080/",
          "height": 80
        },
        "id": "QZ9RT5Wv1r1n",
        "outputId": "17e2dba5-3371-40dd-b831-9148fa4c7007"
      },
      "source": [
        "# hindi for: 'Congress's newest polices made many people poor, sad and depressed '\n",
        "fitted_pipe.predict(\"कांग्रेस की नई नीतियों ने कई लोगों को गरीब, दुखी और उदास बना दिया \")\n",
        "\t\t"
      ],
      "execution_count": null,
      "outputs": [
        {
          "output_type": "execute_result",
          "data": {
            "text/html": [
              "<div>\n",
              "<style scoped>\n",
              "    .dataframe tbody tr th:only-of-type {\n",
              "        vertical-align: middle;\n",
              "    }\n",
              "\n",
              "    .dataframe tbody tr th {\n",
              "        vertical-align: top;\n",
              "    }\n",
              "\n",
              "    .dataframe thead th {\n",
              "        text-align: right;\n",
              "    }\n",
              "</style>\n",
              "<table border=\"1\" class=\"dataframe\">\n",
              "  <thead>\n",
              "    <tr style=\"text-align: right;\">\n",
              "      <th></th>\n",
              "      <th>trained_sentiment_confidence</th>\n",
              "      <th>document</th>\n",
              "      <th>origin_index</th>\n",
              "      <th>trained_sentiment</th>\n",
              "      <th>sentence</th>\n",
              "      <th>sentence_embedding_labse</th>\n",
              "    </tr>\n",
              "  </thead>\n",
              "  <tbody>\n",
              "    <tr>\n",
              "      <th>0</th>\n",
              "      <td>0.995045</td>\n",
              "      <td>कांग्रेस की नई नीतियों ने कई लोगों को गरीब, दु...</td>\n",
              "      <td>0</td>\n",
              "      <td>negative</td>\n",
              "      <td>[कांग्रेस की नई नीतियों ने कई लोगों को गरीब, द...</td>\n",
              "      <td>[-0.030935177579522133, -0.011918646283447742,...</td>\n",
              "    </tr>\n",
              "  </tbody>\n",
              "</table>\n",
              "</div>"
            ],
            "text/plain": [
              "   trained_sentiment_confidence  ...                           sentence_embedding_labse\n",
              "0                      0.995045  ...  [-0.030935177579522133, -0.011918646283447742,...\n",
              "\n",
              "[1 rows x 6 columns]"
            ]
          },
          "metadata": {
            "tags": []
          },
          "execution_count": 27
        }
      ]
    },
    {
      "cell_type": "code",
      "metadata": {
        "colab": {
          "base_uri": "https://localhost:8080/",
          "height": 80
        },
        "id": "quM-IL2i12-B",
        "outputId": "4ef407db-efe4-4ef8-e2b6-2eeb63ab775e"
      },
      "source": [
        "# hindi for: 'Congress's newest polices made many people happy '\n",
        "fitted_pipe.predict(\"कांग्रेस की नई नीतियों ने कई लोगों को खुश किया \")"
      ],
      "execution_count": null,
      "outputs": [
        {
          "output_type": "execute_result",
          "data": {
            "text/html": [
              "<div>\n",
              "<style scoped>\n",
              "    .dataframe tbody tr th:only-of-type {\n",
              "        vertical-align: middle;\n",
              "    }\n",
              "\n",
              "    .dataframe tbody tr th {\n",
              "        vertical-align: top;\n",
              "    }\n",
              "\n",
              "    .dataframe thead th {\n",
              "        text-align: right;\n",
              "    }\n",
              "</style>\n",
              "<table border=\"1\" class=\"dataframe\">\n",
              "  <thead>\n",
              "    <tr style=\"text-align: right;\">\n",
              "      <th></th>\n",
              "      <th>trained_sentiment_confidence</th>\n",
              "      <th>document</th>\n",
              "      <th>origin_index</th>\n",
              "      <th>trained_sentiment</th>\n",
              "      <th>sentence</th>\n",
              "      <th>sentence_embedding_labse</th>\n",
              "    </tr>\n",
              "  </thead>\n",
              "  <tbody>\n",
              "    <tr>\n",
              "      <th>0</th>\n",
              "      <td>0.999983</td>\n",
              "      <td>कांग्रेस की नई नीतियों ने कई लोगों को खुश किया</td>\n",
              "      <td>0</td>\n",
              "      <td>positive</td>\n",
              "      <td>[कांग्रेस की नई नीतियों ने कई लोगों को खुश किया]</td>\n",
              "      <td>[0.005392681807279587, -0.024082284420728683, ...</td>\n",
              "    </tr>\n",
              "  </tbody>\n",
              "</table>\n",
              "</div>"
            ],
            "text/plain": [
              "   trained_sentiment_confidence  ...                           sentence_embedding_labse\n",
              "0                      0.999983  ...  [0.005392681807279587, -0.024082284420728683, ...\n",
              "\n",
              "[1 rows x 6 columns]"
            ]
          },
          "metadata": {
            "tags": []
          },
          "execution_count": 28
        }
      ]
    },
    {
      "cell_type": "markdown",
      "metadata": {
        "id": "HKj5yWwwMplH"
      },
      "source": [
        "# The Model understands French\n",
        "![fr](https://www.worldometers.info/img/flags/small/tn_fr-flag.gif)"
      ]
    },
    {
      "cell_type": "code",
      "metadata": {
        "colab": {
          "base_uri": "https://localhost:8080/",
          "height": 80
        },
        "id": "CUHcJZfJMplL",
        "outputId": "41c1b052-da38-40be-860a-b006f2f9df6e"
      },
      "source": [
        "\t\t\n",
        "# French for: 'Congress's newest polices made many people poor, sad and depressed '\n",
        "fitted_pipe.predict(\"Les nouvelles politiques du Congrès ont rendu de nombreuses personnes pauvres, tristes et déprimées \")"
      ],
      "execution_count": null,
      "outputs": [
        {
          "output_type": "execute_result",
          "data": {
            "text/html": [
              "<div>\n",
              "<style scoped>\n",
              "    .dataframe tbody tr th:only-of-type {\n",
              "        vertical-align: middle;\n",
              "    }\n",
              "\n",
              "    .dataframe tbody tr th {\n",
              "        vertical-align: top;\n",
              "    }\n",
              "\n",
              "    .dataframe thead th {\n",
              "        text-align: right;\n",
              "    }\n",
              "</style>\n",
              "<table border=\"1\" class=\"dataframe\">\n",
              "  <thead>\n",
              "    <tr style=\"text-align: right;\">\n",
              "      <th></th>\n",
              "      <th>trained_sentiment_confidence</th>\n",
              "      <th>document</th>\n",
              "      <th>origin_index</th>\n",
              "      <th>trained_sentiment</th>\n",
              "      <th>sentence</th>\n",
              "      <th>sentence_embedding_labse</th>\n",
              "    </tr>\n",
              "  </thead>\n",
              "  <tbody>\n",
              "    <tr>\n",
              "      <th>0</th>\n",
              "      <td>0.995686</td>\n",
              "      <td>Les nouvelles politiques du Congrès ont rendu ...</td>\n",
              "      <td>0</td>\n",
              "      <td>negative</td>\n",
              "      <td>[Les nouvelles politiques du Congrès ont rendu...</td>\n",
              "      <td>[-0.017834002152085304, 0.011118772439658642, ...</td>\n",
              "    </tr>\n",
              "  </tbody>\n",
              "</table>\n",
              "</div>"
            ],
            "text/plain": [
              "   trained_sentiment_confidence  ...                           sentence_embedding_labse\n",
              "0                      0.995686  ...  [-0.017834002152085304, 0.011118772439658642, ...\n",
              "\n",
              "[1 rows x 6 columns]"
            ]
          },
          "metadata": {
            "tags": []
          },
          "execution_count": 31
        }
      ]
    },
    {
      "cell_type": "code",
      "metadata": {
        "colab": {
          "base_uri": "https://localhost:8080/",
          "height": 80
        },
        "id": "57NY2XoTMplM",
        "outputId": "4fa2fd7c-9697-4b60-c270-b0c2e644b020"
      },
      "source": [
        "# French for: 'Congress's newest polices made many people happy '\n",
        "fitted_pipe.predict(\"Les nouvelles politiques du Congrès ont rendu de nombreuses personnes heureuses \")"
      ],
      "execution_count": null,
      "outputs": [
        {
          "output_type": "execute_result",
          "data": {
            "text/html": [
              "<div>\n",
              "<style scoped>\n",
              "    .dataframe tbody tr th:only-of-type {\n",
              "        vertical-align: middle;\n",
              "    }\n",
              "\n",
              "    .dataframe tbody tr th {\n",
              "        vertical-align: top;\n",
              "    }\n",
              "\n",
              "    .dataframe thead th {\n",
              "        text-align: right;\n",
              "    }\n",
              "</style>\n",
              "<table border=\"1\" class=\"dataframe\">\n",
              "  <thead>\n",
              "    <tr style=\"text-align: right;\">\n",
              "      <th></th>\n",
              "      <th>trained_sentiment_confidence</th>\n",
              "      <th>document</th>\n",
              "      <th>origin_index</th>\n",
              "      <th>trained_sentiment</th>\n",
              "      <th>sentence</th>\n",
              "      <th>sentence_embedding_labse</th>\n",
              "    </tr>\n",
              "  </thead>\n",
              "  <tbody>\n",
              "    <tr>\n",
              "      <th>0</th>\n",
              "      <td>0.999999</td>\n",
              "      <td>Les nouvelles politiques du Congrès ont rendu ...</td>\n",
              "      <td>0</td>\n",
              "      <td>positive</td>\n",
              "      <td>[Les nouvelles politiques du Congrès ont rendu...</td>\n",
              "      <td>[0.019515689462423325, -0.010051749646663666, ...</td>\n",
              "    </tr>\n",
              "  </tbody>\n",
              "</table>\n",
              "</div>"
            ],
            "text/plain": [
              "   trained_sentiment_confidence  ...                           sentence_embedding_labse\n",
              "0                      0.999999  ...  [0.019515689462423325, -0.010051749646663666, ...\n",
              "\n",
              "[1 rows x 6 columns]"
            ]
          },
          "metadata": {
            "tags": []
          },
          "execution_count": 32
        }
      ]
    },
    {
      "cell_type": "markdown",
      "metadata": {
        "id": "jD2TBgT0Nq6F"
      },
      "source": [
        "# The Model understands Thai\n",
        "![th](https://www.worldometers.info/img/flags/small/tn_th-flag.gif)"
      ]
    },
    {
      "cell_type": "code",
      "metadata": {
        "colab": {
          "base_uri": "https://localhost:8080/",
          "height": 80
        },
        "id": "gBp11S5GNq6S",
        "outputId": "878c5149-214e-427a-d206-325ad89d6e2c"
      },
      "source": [
        "\t\t\n",
        "# Thai for: 'Congress's newest polices made many people poor, sad and depressed '\n",
        "fitted_pipe.predict(\"นโยบายใหม่ของสภาคองเกรสทำให้หลายคนยากจนเศร้าและหดหู่ \")"
      ],
      "execution_count": null,
      "outputs": [
        {
          "output_type": "execute_result",
          "data": {
            "text/html": [
              "<div>\n",
              "<style scoped>\n",
              "    .dataframe tbody tr th:only-of-type {\n",
              "        vertical-align: middle;\n",
              "    }\n",
              "\n",
              "    .dataframe tbody tr th {\n",
              "        vertical-align: top;\n",
              "    }\n",
              "\n",
              "    .dataframe thead th {\n",
              "        text-align: right;\n",
              "    }\n",
              "</style>\n",
              "<table border=\"1\" class=\"dataframe\">\n",
              "  <thead>\n",
              "    <tr style=\"text-align: right;\">\n",
              "      <th></th>\n",
              "      <th>trained_sentiment_confidence</th>\n",
              "      <th>document</th>\n",
              "      <th>origin_index</th>\n",
              "      <th>trained_sentiment</th>\n",
              "      <th>sentence</th>\n",
              "      <th>sentence_embedding_labse</th>\n",
              "    </tr>\n",
              "  </thead>\n",
              "  <tbody>\n",
              "    <tr>\n",
              "      <th>0</th>\n",
              "      <td>0.727099</td>\n",
              "      <td>นโยบายใหม่ของสภาคองเกรสทำให้หลายคนยากจนเศร้าแล...</td>\n",
              "      <td>0</td>\n",
              "      <td>positive</td>\n",
              "      <td>[นโยบายใหม่ของสภาคองเกรสทำให้หลายคนยากจนเศร้าแ...</td>\n",
              "      <td>[4.369320549812983e-07, -0.002880594925954938,...</td>\n",
              "    </tr>\n",
              "  </tbody>\n",
              "</table>\n",
              "</div>"
            ],
            "text/plain": [
              "   trained_sentiment_confidence  ...                           sentence_embedding_labse\n",
              "0                      0.727099  ...  [4.369320549812983e-07, -0.002880594925954938,...\n",
              "\n",
              "[1 rows x 6 columns]"
            ]
          },
          "metadata": {
            "tags": []
          },
          "execution_count": 33
        }
      ]
    },
    {
      "cell_type": "code",
      "metadata": {
        "colab": {
          "base_uri": "https://localhost:8080/",
          "height": 80
        },
        "id": "KgatiiyuZumz",
        "outputId": "89c4d1ab-b36b-4e97-a414-1d07866c3304"
      },
      "source": [
        "# Thai for: 'Congress's newest polices made many people happy '\n",
        "fitted_pipe.predict(\"นโยบายใหม่ของสภาคองเกรสทำให้หลายคนพอใจ \")"
      ],
      "execution_count": null,
      "outputs": [
        {
          "output_type": "execute_result",
          "data": {
            "text/html": [
              "<div>\n",
              "<style scoped>\n",
              "    .dataframe tbody tr th:only-of-type {\n",
              "        vertical-align: middle;\n",
              "    }\n",
              "\n",
              "    .dataframe tbody tr th {\n",
              "        vertical-align: top;\n",
              "    }\n",
              "\n",
              "    .dataframe thead th {\n",
              "        text-align: right;\n",
              "    }\n",
              "</style>\n",
              "<table border=\"1\" class=\"dataframe\">\n",
              "  <thead>\n",
              "    <tr style=\"text-align: right;\">\n",
              "      <th></th>\n",
              "      <th>trained_sentiment_confidence</th>\n",
              "      <th>document</th>\n",
              "      <th>origin_index</th>\n",
              "      <th>trained_sentiment</th>\n",
              "      <th>sentence</th>\n",
              "      <th>sentence_embedding_labse</th>\n",
              "    </tr>\n",
              "  </thead>\n",
              "  <tbody>\n",
              "    <tr>\n",
              "      <th>0</th>\n",
              "      <td>0.999999</td>\n",
              "      <td>นโยบายใหม่ของสภาคองเกรสทำให้หลายคนพอใจ</td>\n",
              "      <td>0</td>\n",
              "      <td>positive</td>\n",
              "      <td>[นโยบายใหม่ของสภาคองเกรสทำให้หลายคนพอใจ]</td>\n",
              "      <td>[0.012098133563995361, 0.006513903383165598, -...</td>\n",
              "    </tr>\n",
              "  </tbody>\n",
              "</table>\n",
              "</div>"
            ],
            "text/plain": [
              "   trained_sentiment_confidence  ...                           sentence_embedding_labse\n",
              "0                      0.999999  ...  [0.012098133563995361, 0.006513903383165598, -...\n",
              "\n",
              "[1 rows x 6 columns]"
            ]
          },
          "metadata": {
            "tags": []
          },
          "execution_count": 34
        }
      ]
    },
    {
      "cell_type": "markdown",
      "metadata": {
        "id": "mLItI4KZOElB"
      },
      "source": [
        "# The Model understands Khmer\n",
        "![km](https://www.worldometers.info/img/flags/small/tn_cb-flag.gif)"
      ]
    },
    {
      "cell_type": "code",
      "metadata": {
        "colab": {
          "base_uri": "https://localhost:8080/",
          "height": 80
        },
        "id": "Fxh1gasROElC",
        "outputId": "9c517c18-1b44-45a5-8941-a1c21c21a454"
      },
      "source": [
        "# Khmer for: 'Congress's newest polices made many people poor, sad and depressed '\n",
        "fitted_pipe.predict(\"គោលនយោបាយថ្មីរបស់សភាបានធ្វើឱ្យប្រជាជនជាច្រើនក្រីក្រក្រៀមក្រំនិងធ្លាក់ទឹកចិត្ត \")"
      ],
      "execution_count": null,
      "outputs": [
        {
          "output_type": "execute_result",
          "data": {
            "text/html": [
              "<div>\n",
              "<style scoped>\n",
              "    .dataframe tbody tr th:only-of-type {\n",
              "        vertical-align: middle;\n",
              "    }\n",
              "\n",
              "    .dataframe tbody tr th {\n",
              "        vertical-align: top;\n",
              "    }\n",
              "\n",
              "    .dataframe thead th {\n",
              "        text-align: right;\n",
              "    }\n",
              "</style>\n",
              "<table border=\"1\" class=\"dataframe\">\n",
              "  <thead>\n",
              "    <tr style=\"text-align: right;\">\n",
              "      <th></th>\n",
              "      <th>trained_sentiment_confidence</th>\n",
              "      <th>document</th>\n",
              "      <th>origin_index</th>\n",
              "      <th>trained_sentiment</th>\n",
              "      <th>sentence</th>\n",
              "      <th>sentence_embedding_labse</th>\n",
              "    </tr>\n",
              "  </thead>\n",
              "  <tbody>\n",
              "    <tr>\n",
              "      <th>0</th>\n",
              "      <td>0.987534</td>\n",
              "      <td>គោលនយោបាយថ្មីរបស់សភាបានធ្វើឱ្យប្រជាជនជាច្រើនក្...</td>\n",
              "      <td>0</td>\n",
              "      <td>negative</td>\n",
              "      <td>[គោលនយោបាយថ្មីរបស់សភាបានធ្វើឱ្យប្រជាជនជាច្រើនក...</td>\n",
              "      <td>[-0.045212410390377045, 0.010355290956795216, ...</td>\n",
              "    </tr>\n",
              "  </tbody>\n",
              "</table>\n",
              "</div>"
            ],
            "text/plain": [
              "   trained_sentiment_confidence  ...                           sentence_embedding_labse\n",
              "0                      0.987534  ...  [-0.045212410390377045, 0.010355290956795216, ...\n",
              "\n",
              "[1 rows x 6 columns]"
            ]
          },
          "metadata": {
            "tags": []
          },
          "execution_count": 35
        }
      ]
    },
    {
      "cell_type": "code",
      "metadata": {
        "colab": {
          "base_uri": "https://localhost:8080/",
          "height": 80
        },
        "id": "SWbqMgAwOElC",
        "outputId": "922c462d-f20b-4501-dbcf-6368801b889f"
      },
      "source": [
        "# Khmer for: 'Congress's newest polices made many people happy '\n",
        "fitted_pipe.predict(\"គោលនយោបាយថ្មីរបស់សភាបានធ្វើឱ្យមនុស្សជាច្រើនសប្បាយរីករាយ \")"
      ],
      "execution_count": null,
      "outputs": [
        {
          "output_type": "execute_result",
          "data": {
            "text/html": [
              "<div>\n",
              "<style scoped>\n",
              "    .dataframe tbody tr th:only-of-type {\n",
              "        vertical-align: middle;\n",
              "    }\n",
              "\n",
              "    .dataframe tbody tr th {\n",
              "        vertical-align: top;\n",
              "    }\n",
              "\n",
              "    .dataframe thead th {\n",
              "        text-align: right;\n",
              "    }\n",
              "</style>\n",
              "<table border=\"1\" class=\"dataframe\">\n",
              "  <thead>\n",
              "    <tr style=\"text-align: right;\">\n",
              "      <th></th>\n",
              "      <th>trained_sentiment_confidence</th>\n",
              "      <th>document</th>\n",
              "      <th>origin_index</th>\n",
              "      <th>trained_sentiment</th>\n",
              "      <th>sentence</th>\n",
              "      <th>sentence_embedding_labse</th>\n",
              "    </tr>\n",
              "  </thead>\n",
              "  <tbody>\n",
              "    <tr>\n",
              "      <th>0</th>\n",
              "      <td>0.999997</td>\n",
              "      <td>គោលនយោបាយថ្មីរបស់សភាបានធ្វើឱ្យមនុស្សជាច្រើនសប្...</td>\n",
              "      <td>0</td>\n",
              "      <td>positive</td>\n",
              "      <td>[គោលនយោបាយថ្មីរបស់សភាបានធ្វើឱ្យមនុស្សជាច្រើនសប...</td>\n",
              "      <td>[-0.025576695799827576, -0.020313698798418045,...</td>\n",
              "    </tr>\n",
              "  </tbody>\n",
              "</table>\n",
              "</div>"
            ],
            "text/plain": [
              "   trained_sentiment_confidence  ...                           sentence_embedding_labse\n",
              "0                      0.999997  ...  [-0.025576695799827576, -0.020313698798418045,...\n",
              "\n",
              "[1 rows x 6 columns]"
            ]
          },
          "metadata": {
            "tags": []
          },
          "execution_count": 36
        }
      ]
    },
    {
      "cell_type": "markdown",
      "metadata": {
        "id": "lvE-LbNiPoBT"
      },
      "source": [
        "# The Model understands Yiddish\n",
        "![yi](https://www.worldometers.info/img/flags/small/tn_pl-flag.gif)"
      ]
    },
    {
      "cell_type": "code",
      "metadata": {
        "colab": {
          "base_uri": "https://localhost:8080/",
          "height": 80
        },
        "id": "sZlmLhajPoBb",
        "outputId": "3715ec9a-21a3-4375-a8cb-7ea846674419"
      },
      "source": [
        "\t\t\n",
        "# Yiddish for: 'Congress's newest polices made many people poor, sad and depressed '\n",
        "fitted_pipe.predict(\"קאָנגרעס ס נייַ פּאַלאַסיז געמאכט פילע מענטשן נעבעך, טרויעריק און דערשלאָגן \")"
      ],
      "execution_count": null,
      "outputs": [
        {
          "output_type": "execute_result",
          "data": {
            "text/html": [
              "<div>\n",
              "<style scoped>\n",
              "    .dataframe tbody tr th:only-of-type {\n",
              "        vertical-align: middle;\n",
              "    }\n",
              "\n",
              "    .dataframe tbody tr th {\n",
              "        vertical-align: top;\n",
              "    }\n",
              "\n",
              "    .dataframe thead th {\n",
              "        text-align: right;\n",
              "    }\n",
              "</style>\n",
              "<table border=\"1\" class=\"dataframe\">\n",
              "  <thead>\n",
              "    <tr style=\"text-align: right;\">\n",
              "      <th></th>\n",
              "      <th>trained_sentiment_confidence</th>\n",
              "      <th>document</th>\n",
              "      <th>origin_index</th>\n",
              "      <th>trained_sentiment</th>\n",
              "      <th>sentence</th>\n",
              "      <th>sentence_embedding_labse</th>\n",
              "    </tr>\n",
              "  </thead>\n",
              "  <tbody>\n",
              "    <tr>\n",
              "      <th>0</th>\n",
              "      <td>0.972501</td>\n",
              "      <td>קאָנגרעס ס נייַ פּאַלאַסיז געמאכט פילע מענטשן ...</td>\n",
              "      <td>0</td>\n",
              "      <td>positive</td>\n",
              "      <td>[קאָנגרעס ס נייַ פּאַלאַסיז געמאכט פילע מענטשן...</td>\n",
              "      <td>[-0.007056341972202063, -0.0033368950244039297...</td>\n",
              "    </tr>\n",
              "  </tbody>\n",
              "</table>\n",
              "</div>"
            ],
            "text/plain": [
              "   trained_sentiment_confidence  ...                           sentence_embedding_labse\n",
              "0                      0.972501  ...  [-0.007056341972202063, -0.0033368950244039297...\n",
              "\n",
              "[1 rows x 6 columns]"
            ]
          },
          "metadata": {
            "tags": []
          },
          "execution_count": 37
        }
      ]
    },
    {
      "cell_type": "code",
      "metadata": {
        "colab": {
          "base_uri": "https://localhost:8080/",
          "height": 80
        },
        "id": "5h-pha_nPoBc",
        "outputId": "a8a486c3-0557-4be3-b6a0-57d6daf6a218"
      },
      "source": [
        "# Yiddish for: 'Congress's newest polices made many people happy '\n",
        "fitted_pipe.predict(\"קאָנגרעס ס נייַ פּאַלאַסיז געמאכט פילע מענטשן צופרידן \")"
      ],
      "execution_count": null,
      "outputs": [
        {
          "output_type": "execute_result",
          "data": {
            "text/html": [
              "<div>\n",
              "<style scoped>\n",
              "    .dataframe tbody tr th:only-of-type {\n",
              "        vertical-align: middle;\n",
              "    }\n",
              "\n",
              "    .dataframe tbody tr th {\n",
              "        vertical-align: top;\n",
              "    }\n",
              "\n",
              "    .dataframe thead th {\n",
              "        text-align: right;\n",
              "    }\n",
              "</style>\n",
              "<table border=\"1\" class=\"dataframe\">\n",
              "  <thead>\n",
              "    <tr style=\"text-align: right;\">\n",
              "      <th></th>\n",
              "      <th>trained_sentiment_confidence</th>\n",
              "      <th>document</th>\n",
              "      <th>origin_index</th>\n",
              "      <th>trained_sentiment</th>\n",
              "      <th>sentence</th>\n",
              "      <th>sentence_embedding_labse</th>\n",
              "    </tr>\n",
              "  </thead>\n",
              "  <tbody>\n",
              "    <tr>\n",
              "      <th>0</th>\n",
              "      <td>0.999997</td>\n",
              "      <td>קאָנגרעס ס נייַ פּאַלאַסיז געמאכט פילע מענטשן ...</td>\n",
              "      <td>0</td>\n",
              "      <td>positive</td>\n",
              "      <td>[קאָנגרעס ס נייַ פּאַלאַסיז געמאכט פילע מענטשן...</td>\n",
              "      <td>[0.002619848819449544, -0.018449869006872177, ...</td>\n",
              "    </tr>\n",
              "  </tbody>\n",
              "</table>\n",
              "</div>"
            ],
            "text/plain": [
              "   trained_sentiment_confidence  ...                           sentence_embedding_labse\n",
              "0                      0.999997  ...  [0.002619848819449544, -0.018449869006872177, ...\n",
              "\n",
              "[1 rows x 6 columns]"
            ]
          },
          "metadata": {
            "tags": []
          },
          "execution_count": 38
        }
      ]
    },
    {
      "cell_type": "markdown",
      "metadata": {
        "id": "XSz4WzScaAHj"
      },
      "source": [
        "# The Model understands Kygrgyz\n",
        "![ky](https://www.worldometers.info/img/flags/small/tn_kg-flag.gif)"
      ]
    },
    {
      "cell_type": "code",
      "metadata": {
        "colab": {
          "base_uri": "https://localhost:8080/",
          "height": 80
        },
        "id": "DXz6fhJSaAHu",
        "outputId": "7b409dc7-7ec0-47c4-b42a-24e24b67c830"
      },
      "source": [
        "# Kygrgyz for: 'Congress's newest polices made many people poor, sad and depressed '\n",
        "fitted_pipe.predict(\"Конгресстин жаңы саясаты көптөгөн адамдарды жакыр, кайгыга чөгүп, көңүл чөгөттү \")"
      ],
      "execution_count": null,
      "outputs": [
        {
          "output_type": "execute_result",
          "data": {
            "text/html": [
              "<div>\n",
              "<style scoped>\n",
              "    .dataframe tbody tr th:only-of-type {\n",
              "        vertical-align: middle;\n",
              "    }\n",
              "\n",
              "    .dataframe tbody tr th {\n",
              "        vertical-align: top;\n",
              "    }\n",
              "\n",
              "    .dataframe thead th {\n",
              "        text-align: right;\n",
              "    }\n",
              "</style>\n",
              "<table border=\"1\" class=\"dataframe\">\n",
              "  <thead>\n",
              "    <tr style=\"text-align: right;\">\n",
              "      <th></th>\n",
              "      <th>trained_sentiment_confidence</th>\n",
              "      <th>document</th>\n",
              "      <th>origin_index</th>\n",
              "      <th>trained_sentiment</th>\n",
              "      <th>sentence</th>\n",
              "      <th>sentence_embedding_labse</th>\n",
              "    </tr>\n",
              "  </thead>\n",
              "  <tbody>\n",
              "    <tr>\n",
              "      <th>0</th>\n",
              "      <td>0.987505</td>\n",
              "      <td>Конгресстин жаңы саясаты көптөгөн адамдарды жа...</td>\n",
              "      <td>0</td>\n",
              "      <td>negative</td>\n",
              "      <td>[Конгресстин жаңы саясаты көптөгөн адамдарды ж...</td>\n",
              "      <td>[-0.0002846009156201035, -0.002948872279375791...</td>\n",
              "    </tr>\n",
              "  </tbody>\n",
              "</table>\n",
              "</div>"
            ],
            "text/plain": [
              "   trained_sentiment_confidence  ...                           sentence_embedding_labse\n",
              "0                      0.987505  ...  [-0.0002846009156201035, -0.002948872279375791...\n",
              "\n",
              "[1 rows x 6 columns]"
            ]
          },
          "metadata": {
            "tags": []
          },
          "execution_count": 39
        }
      ]
    },
    {
      "cell_type": "code",
      "metadata": {
        "colab": {
          "base_uri": "https://localhost:8080/",
          "height": 80
        },
        "id": "lh_ZSHlPaAHv",
        "outputId": "5fc6a691-eb12-4cd2-e24c-6391ce070614"
      },
      "source": [
        "# Kygrgyz for: 'Congress's newest polices made many people happy '\n",
        "fitted_pipe.predict(\"Конгресстин жаңы саясаты көпчүлүктү кубандырды \")"
      ],
      "execution_count": null,
      "outputs": [
        {
          "output_type": "execute_result",
          "data": {
            "text/html": [
              "<div>\n",
              "<style scoped>\n",
              "    .dataframe tbody tr th:only-of-type {\n",
              "        vertical-align: middle;\n",
              "    }\n",
              "\n",
              "    .dataframe tbody tr th {\n",
              "        vertical-align: top;\n",
              "    }\n",
              "\n",
              "    .dataframe thead th {\n",
              "        text-align: right;\n",
              "    }\n",
              "</style>\n",
              "<table border=\"1\" class=\"dataframe\">\n",
              "  <thead>\n",
              "    <tr style=\"text-align: right;\">\n",
              "      <th></th>\n",
              "      <th>trained_sentiment_confidence</th>\n",
              "      <th>document</th>\n",
              "      <th>origin_index</th>\n",
              "      <th>trained_sentiment</th>\n",
              "      <th>sentence</th>\n",
              "      <th>sentence_embedding_labse</th>\n",
              "    </tr>\n",
              "  </thead>\n",
              "  <tbody>\n",
              "    <tr>\n",
              "      <th>0</th>\n",
              "      <td>0.999999</td>\n",
              "      <td>Конгресстин жаңы саясаты көпчүлүктү кубандырды</td>\n",
              "      <td>0</td>\n",
              "      <td>positive</td>\n",
              "      <td>[Конгресстин жаңы саясаты көпчүлүктү кубандырды]</td>\n",
              "      <td>[0.018544858321547508, -0.003260228084400296, ...</td>\n",
              "    </tr>\n",
              "  </tbody>\n",
              "</table>\n",
              "</div>"
            ],
            "text/plain": [
              "   trained_sentiment_confidence  ...                           sentence_embedding_labse\n",
              "0                      0.999999  ...  [0.018544858321547508, -0.003260228084400296, ...\n",
              "\n",
              "[1 rows x 6 columns]"
            ]
          },
          "metadata": {
            "tags": []
          },
          "execution_count": 40
        }
      ]
    },
    {
      "cell_type": "markdown",
      "metadata": {
        "id": "DGMVMKaTdJFj"
      },
      "source": [
        "# The Model understands Tamil\n",
        "![ta](https://www.worldometers.info/img/flags/small/tn_in-flag.gif)"
      ]
    },
    {
      "cell_type": "code",
      "metadata": {
        "colab": {
          "base_uri": "https://localhost:8080/",
          "height": 80
        },
        "id": "JWDr_LoCdJFn",
        "outputId": "9eb05327-e956-4fb5-a5ee-62dc31e5b372"
      },
      "source": [
        "# Tamil for: 'Congress's newest polices made many people poor, sad and depressed '\n",
        "fitted_pipe.predict(\"காங்கிரசின் புதிய கொள்கைகள் பலரை ஏழைகளாகவும், சோகமாகவும், மனச்சோர்வடையச் செய்தன \")"
      ],
      "execution_count": null,
      "outputs": [
        {
          "output_type": "execute_result",
          "data": {
            "text/html": [
              "<div>\n",
              "<style scoped>\n",
              "    .dataframe tbody tr th:only-of-type {\n",
              "        vertical-align: middle;\n",
              "    }\n",
              "\n",
              "    .dataframe tbody tr th {\n",
              "        vertical-align: top;\n",
              "    }\n",
              "\n",
              "    .dataframe thead th {\n",
              "        text-align: right;\n",
              "    }\n",
              "</style>\n",
              "<table border=\"1\" class=\"dataframe\">\n",
              "  <thead>\n",
              "    <tr style=\"text-align: right;\">\n",
              "      <th></th>\n",
              "      <th>trained_sentiment_confidence</th>\n",
              "      <th>document</th>\n",
              "      <th>origin_index</th>\n",
              "      <th>trained_sentiment</th>\n",
              "      <th>sentence</th>\n",
              "      <th>sentence_embedding_labse</th>\n",
              "    </tr>\n",
              "  </thead>\n",
              "  <tbody>\n",
              "    <tr>\n",
              "      <th>0</th>\n",
              "      <td>0.974183</td>\n",
              "      <td>காங்கிரசின் புதிய கொள்கைகள் பலரை ஏழைகளாகவும், ...</td>\n",
              "      <td>0</td>\n",
              "      <td>negative</td>\n",
              "      <td>[காங்கிரசின் புதிய கொள்கைகள் பலரை ஏழைகளாகவும்,...</td>\n",
              "      <td>[-0.006572885904461145, -0.0003982966300100088...</td>\n",
              "    </tr>\n",
              "  </tbody>\n",
              "</table>\n",
              "</div>"
            ],
            "text/plain": [
              "   trained_sentiment_confidence  ...                           sentence_embedding_labse\n",
              "0                      0.974183  ...  [-0.006572885904461145, -0.0003982966300100088...\n",
              "\n",
              "[1 rows x 6 columns]"
            ]
          },
          "metadata": {
            "tags": []
          },
          "execution_count": 41
        }
      ]
    },
    {
      "cell_type": "code",
      "metadata": {
        "colab": {
          "base_uri": "https://localhost:8080/",
          "height": 80
        },
        "id": "Q6C0BmTtdJFp",
        "outputId": "02b09df5-298a-48f4-af0a-ba7bbf241971"
      },
      "source": [
        "# Tamil for: 'Congress's newest polices made many people happy '\n",
        "fitted_pipe.predict(\"காங்கிரசின் புதிய கொள்கைகள் பலரை மகிழ்ச்சியடையச் செய்தன \")"
      ],
      "execution_count": null,
      "outputs": [
        {
          "output_type": "execute_result",
          "data": {
            "text/html": [
              "<div>\n",
              "<style scoped>\n",
              "    .dataframe tbody tr th:only-of-type {\n",
              "        vertical-align: middle;\n",
              "    }\n",
              "\n",
              "    .dataframe tbody tr th {\n",
              "        vertical-align: top;\n",
              "    }\n",
              "\n",
              "    .dataframe thead th {\n",
              "        text-align: right;\n",
              "    }\n",
              "</style>\n",
              "<table border=\"1\" class=\"dataframe\">\n",
              "  <thead>\n",
              "    <tr style=\"text-align: right;\">\n",
              "      <th></th>\n",
              "      <th>trained_sentiment_confidence</th>\n",
              "      <th>document</th>\n",
              "      <th>origin_index</th>\n",
              "      <th>trained_sentiment</th>\n",
              "      <th>sentence</th>\n",
              "      <th>sentence_embedding_labse</th>\n",
              "    </tr>\n",
              "  </thead>\n",
              "  <tbody>\n",
              "    <tr>\n",
              "      <th>0</th>\n",
              "      <td>0.999997</td>\n",
              "      <td>காங்கிரசின் புதிய கொள்கைகள் பலரை மகிழ்ச்சியடைய...</td>\n",
              "      <td>0</td>\n",
              "      <td>positive</td>\n",
              "      <td>[காங்கிரசின் புதிய கொள்கைகள் பலரை மகிழ்ச்சியடை...</td>\n",
              "      <td>[0.018834874033927917, -0.01959705911576748, -...</td>\n",
              "    </tr>\n",
              "  </tbody>\n",
              "</table>\n",
              "</div>"
            ],
            "text/plain": [
              "   trained_sentiment_confidence  ...                           sentence_embedding_labse\n",
              "0                      0.999997  ...  [0.018834874033927917, -0.01959705911576748, -...\n",
              "\n",
              "[1 rows x 6 columns]"
            ]
          },
          "metadata": {
            "tags": []
          },
          "execution_count": 42
        }
      ]
    },
    {
      "cell_type": "markdown",
      "metadata": {
        "id": "2BB-NwZUoHSe"
      },
      "source": [
        "# 5. Lets save the model"
      ]
    },
    {
      "cell_type": "code",
      "metadata": {
        "colab": {
          "base_uri": "https://localhost:8080/"
        },
        "id": "eLex095goHwm",
        "outputId": "bcc02088-1c38-4c16-d115-80708a73636c"
      },
      "source": [
        "stored_model_path = './models/classifier_dl_trained' \n",
        "fitted_pipe.save(stored_model_path)"
      ],
      "execution_count": null,
      "outputs": [
        {
          "output_type": "stream",
          "text": [
            "Stored model in ./models/classifier_dl_trained\n"
          ],
          "name": "stdout"
        }
      ]
    },
    {
      "cell_type": "markdown",
      "metadata": {
        "id": "e_b2DPd4rCiU"
      },
      "source": [
        "# 6. Lets load the model from HDD.\n",
        "This makes Offlien NLU usage possible!   \n",
        "You need to call nlu.load(path=path_to_the_pipe) to load a model/pipeline from disk."
      ]
    },
    {
      "cell_type": "code",
      "metadata": {
        "colab": {
          "base_uri": "https://localhost:8080/",
          "height": 80
        },
        "id": "SO4uz45MoRgp",
        "outputId": "2f75322c-c669-4956-e4ed-0388960ada0b"
      },
      "source": [
        "stored_model_path = './models/classifier_dl_trained' \n",
        "hdd_pipe = nlu.load(path=stored_model_path)\n",
        "preds = hdd_pipe.predict('I am extremly depressed and down cause of school and just feel like ending my life...')\n",
        "preds"
      ],
      "execution_count": null,
      "outputs": [
        {
          "output_type": "execute_result",
          "data": {
            "text/html": [
              "<div>\n",
              "<style scoped>\n",
              "    .dataframe tbody tr th:only-of-type {\n",
              "        vertical-align: middle;\n",
              "    }\n",
              "\n",
              "    .dataframe tbody tr th {\n",
              "        vertical-align: top;\n",
              "    }\n",
              "\n",
              "    .dataframe thead th {\n",
              "        text-align: right;\n",
              "    }\n",
              "</style>\n",
              "<table border=\"1\" class=\"dataframe\">\n",
              "  <thead>\n",
              "    <tr style=\"text-align: right;\">\n",
              "      <th></th>\n",
              "      <th>origin_index</th>\n",
              "      <th>sentiment_confidence</th>\n",
              "      <th>sentence</th>\n",
              "      <th>sentence_embedding_from_disk</th>\n",
              "      <th>document</th>\n",
              "      <th>sentiment</th>\n",
              "      <th>text</th>\n",
              "    </tr>\n",
              "  </thead>\n",
              "  <tbody>\n",
              "    <tr>\n",
              "      <th>0</th>\n",
              "      <td>8589934592</td>\n",
              "      <td>[0.9989802, 0.9989802]</td>\n",
              "      <td>[I am extremly depressed and down cause of sch...</td>\n",
              "      <td>[[-0.029913833364844322, -0.03314201161265373,...</td>\n",
              "      <td>I am extremly depressed and down cause of scho...</td>\n",
              "      <td>[negative, negative]</td>\n",
              "      <td>I am extremly depressed and down cause of scho...</td>\n",
              "    </tr>\n",
              "  </tbody>\n",
              "</table>\n",
              "</div>"
            ],
            "text/plain": [
              "   origin_index  ...                                               text\n",
              "0    8589934592  ...  I am extremly depressed and down cause of scho...\n",
              "\n",
              "[1 rows x 7 columns]"
            ]
          },
          "metadata": {
            "tags": []
          },
          "execution_count": 1
        }
      ]
    },
    {
      "cell_type": "code",
      "metadata": {
        "colab": {
          "base_uri": "https://localhost:8080/"
        },
        "id": "btTWUdsDNhfx",
        "outputId": "108b339c-4dea-4586-de63-8e424e41e9f6"
      },
      "source": [
        "hdd_pipe.print_info()"
      ],
      "execution_count": null,
      "outputs": [
        {
          "output_type": "stream",
          "text": [
            "The following parameters are configurable for this NLU pipeline (You can copy paste the examples) :\n",
            ">>> pipe['document_assembler'] has settable params:\n",
            "pipe['document_assembler'].setCleanupMode('shrink')              | Info: possible values: disabled, inplace, inplace_full, shrink, shrink_full, each, each_full, delete_full | Currently set to : shrink\n",
            ">>> pipe['sentence_detector@SentenceDetectorDLModel_c83c27f46b97'] has settable params:\n",
            "pipe['sentence_detector@SentenceDetectorDLModel_c83c27f46b97'].setExplodeSentences(False)  | Info: whether to explode each sentence into a different row, for better parallelization. Defaults to false. | Currently set to : False\n",
            "pipe['sentence_detector@SentenceDetectorDLModel_c83c27f46b97'].setStorageRef('SentenceDetectorDLModel_c83c27f46b97')  | Info: storage unique identifier | Currently set to : SentenceDetectorDLModel_c83c27f46b97\n",
            "pipe['sentence_detector@SentenceDetectorDLModel_c83c27f46b97'].setEncoder(com.johnsnowlabs.nlp.annotators.sentence_detector_dl.SentenceDetectorDLEncoder@2a835f76)  | Info: Data encoder | Currently set to : com.johnsnowlabs.nlp.annotators.sentence_detector_dl.SentenceDetectorDLEncoder@2a835f76\n",
            "pipe['sentence_detector@SentenceDetectorDLModel_c83c27f46b97'].setImpossiblePenultimates(['Bros', 'No', 'al', 'vs', 'etc', 'Fig', 'Dr', 'Prof', 'PhD', 'MD', 'Co', 'Corp', 'Inc', 'bros', 'VS', 'Vs', 'ETC', 'fig', 'dr', 'prof', 'PHD', 'phd', 'md', 'co', 'corp', 'inc', 'Jan', 'Feb', 'Mar', 'Apr', 'Jul', 'Aug', 'Sep', 'Sept', 'Oct', 'Nov', 'Dec', 'St', 'st', 'AM', 'PM', 'am', 'pm', 'e.g', 'f.e', 'i.e'])  | Info: Impossible penultimates | Currently set to : ['Bros', 'No', 'al', 'vs', 'etc', 'Fig', 'Dr', 'Prof', 'PhD', 'MD', 'Co', 'Corp', 'Inc', 'bros', 'VS', 'Vs', 'ETC', 'fig', 'dr', 'prof', 'PHD', 'phd', 'md', 'co', 'corp', 'inc', 'Jan', 'Feb', 'Mar', 'Apr', 'Jul', 'Aug', 'Sep', 'Sept', 'Oct', 'Nov', 'Dec', 'St', 'st', 'AM', 'PM', 'am', 'pm', 'e.g', 'f.e', 'i.e']\n",
            "pipe['sentence_detector@SentenceDetectorDLModel_c83c27f46b97'].setModelArchitecture('cnn')  | Info: Model architecture (CNN) | Currently set to : cnn\n",
            ">>> pipe['bert_sentence@labse'] has settable params:\n",
            "pipe['bert_sentence@labse'].setBatchSize(8)                      | Info: Size of every batch | Currently set to : 8\n",
            "pipe['bert_sentence@labse'].setCaseSensitive(False)              | Info: whether to ignore case in tokens for embeddings matching | Currently set to : False\n",
            "pipe['bert_sentence@labse'].setDimension(768)                    | Info: Number of embedding dimensions | Currently set to : 768\n",
            "pipe['bert_sentence@labse'].setMaxSentenceLength(128)            | Info: Max sentence length to process | Currently set to : 128\n",
            "pipe['bert_sentence@labse'].setIsLong(False)                     | Info: Use Long type instead of Int type for inputs buffer - Some Bert models require Long instead of Int. | Currently set to : False\n",
            "pipe['bert_sentence@labse'].setStorageRef('labse')               | Info: unique reference name for identification | Currently set to : labse\n",
            ">>> pipe['sentiment_dl@labse'] has settable params:\n",
            "pipe['sentiment_dl@labse'].setThreshold(0.6)                     | Info: The minimum threshold for the final result otheriwse it will be neutral | Currently set to : 0.6\n",
            "pipe['sentiment_dl@labse'].setThresholdLabel('neutral')          | Info: In case the score is less than threshold, what should be the label. Default is neutral. | Currently set to : neutral\n",
            "pipe['sentiment_dl@labse'].setClasses(['positive', 'negative'])  | Info: get the tags used to trained this SentimentDLModel | Currently set to : ['positive', 'negative']\n",
            "pipe['sentiment_dl@labse'].setStorageRef('labse')                | Info: unique reference name for identification | Currently set to : labse\n"
          ],
          "name": "stdout"
        }
      ]
    },
    {
      "cell_type": "code",
      "metadata": {
        "id": "l_SDhKMysljL"
      },
      "source": [
        ""
      ],
      "execution_count": null,
      "outputs": []
    }
  ]
}